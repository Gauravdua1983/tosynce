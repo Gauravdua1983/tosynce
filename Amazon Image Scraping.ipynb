{
 "cells": [
  {
   "cell_type": "markdown",
   "metadata": {},
   "source": [
    "# Image Scraping and Classification Project"
   ]
  },
  {
   "cell_type": "code",
   "execution_count": 1,
   "metadata": {},
   "outputs": [],
   "source": [
    "#importing the required libraries\n",
    "import pandas as pd\n",
    "from selenium import webdriver\n",
    "import os"
   ]
  },
  {
   "cell_type": "code",
   "execution_count": 2,
   "metadata": {},
   "outputs": [],
   "source": [
    "driver=webdriver.Chrome(r\"C:\\Users\\verma\\Desktop\\Selenium\\chromedriver.exe\")"
   ]
  },
  {
   "cell_type": "code",
   "execution_count": 3,
   "metadata": {},
   "outputs": [],
   "source": [
    "url = \"https://www.amazon.in/s?k=sarees&ref=nb_sb_noss_2\"\n",
    "\n",
    "driver.get(url)"
   ]
  },
  {
   "cell_type": "markdown",
   "metadata": {},
   "source": [
    "# Directory  to store  images of Sarees"
   ]
  },
  {
   "cell_type": "code",
   "execution_count": 4,
   "metadata": {},
   "outputs": [],
   "source": [
    "def make_directory(dirname):\n",
    "    current_path= os.getcwd()\n",
    "    path=os.path.join(current_path,dirname)\n",
    "    if not os.path.exists(path):\n",
    "        os.makedirs(path)"
   ]
  },
  {
   "cell_type": "code",
   "execution_count": 5,
   "metadata": {},
   "outputs": [],
   "source": [
    "make_directory('Sarees')"
   ]
  },
  {
   "cell_type": "markdown",
   "metadata": {},
   "source": [
    "# Scraping URLs of Images"
   ]
  },
  {
   "cell_type": "code",
   "execution_count": 8,
   "metadata": {},
   "outputs": [],
   "source": [
    "images=driver.find_elements_by_xpath(\"//div/img[@class='s-image']\")"
   ]
  },
  {
   "cell_type": "code",
   "execution_count": 9,
   "metadata": {},
   "outputs": [
    {
     "name": "stdout",
     "output_type": "stream",
     "text": [
      "60\n"
     ]
    }
   ],
   "source": [
    "print(len(images))"
   ]
  },
  {
   "cell_type": "code",
   "execution_count": 10,
   "metadata": {},
   "outputs": [
    {
     "data": {
      "text/plain": [
       "<selenium.webdriver.remote.webelement.WebElement (session=\"a9f35e07b9aa00a26a853caf08139200\", element=\"8b0758c3-9c50-45de-aac6-903c3a5ca8d4\")>"
      ]
     },
     "execution_count": 10,
     "metadata": {},
     "output_type": "execute_result"
    }
   ],
   "source": [
    "images[0]"
   ]
  },
  {
   "cell_type": "code",
   "execution_count": 11,
   "metadata": {},
   "outputs": [
    {
     "name": "stdout",
     "output_type": "stream",
     "text": [
      "https://m.media-amazon.com/images/I/91WhcLH0RbL._AC_UL320_.jpg\n",
      "https://m.media-amazon.com/images/I/61ZzdsJU6xL._AC_UL320_.jpg\n",
      "https://m.media-amazon.com/images/I/617I38R8lmL._AC_UL320_.jpg\n",
      "https://m.media-amazon.com/images/I/71X59T00YdL._AC_UL320_.jpg\n",
      "https://m.media-amazon.com/images/I/91WCQ88UV5L._AC_UL320_.jpg\n",
      "https://m.media-amazon.com/images/I/91K7kfay53L._AC_UL320_.jpg\n",
      "https://m.media-amazon.com/images/I/913VtoIq8DL._AC_UL320_.jpg\n",
      "https://m.media-amazon.com/images/I/61JioFirxkL._AC_UL320_.jpg\n",
      "https://m.media-amazon.com/images/I/9114kTDpPUL._AC_UL320_.jpg\n",
      "https://m.media-amazon.com/images/I/91GKFgnS5uL._AC_UL320_.jpg\n",
      "https://m.media-amazon.com/images/I/61B8o9UlqpL._AC_UL320_.jpg\n",
      "https://m.media-amazon.com/images/I/61659yf4x5L._AC_UL320_.jpg\n",
      "https://m.media-amazon.com/images/I/61dbP1wFneL._AC_UL320_.jpg\n",
      "https://m.media-amazon.com/images/I/81dkSgs7nsL._AC_UL320_.jpg\n",
      "https://m.media-amazon.com/images/I/519AH7odS0L._AC_UL320_.jpg\n",
      "https://m.media-amazon.com/images/I/81jjipfftHL._AC_UL320_.jpg\n",
      "https://m.media-amazon.com/images/I/91dDMDg+QTL._AC_UL320_.jpg\n",
      "https://m.media-amazon.com/images/I/81PZtC2DFCL._AC_UL320_.jpg\n",
      "https://m.media-amazon.com/images/I/81bPjU8pOQL._AC_UL320_.jpg\n",
      "https://m.media-amazon.com/images/I/710UYeqiESL._AC_UL320_.jpg\n",
      "https://m.media-amazon.com/images/I/81aJuTqGOPL._AC_UL320_.jpg\n",
      "https://m.media-amazon.com/images/I/91uVdKzoq-L._AC_UL320_.jpg\n",
      "https://m.media-amazon.com/images/I/71i-gx2ttJS._AC_UL320_.jpg\n",
      "https://m.media-amazon.com/images/I/71LhLWXkVmL._AC_UL320_.jpg\n",
      "https://m.media-amazon.com/images/I/71g8zQB460L._AC_UL320_.jpg\n",
      "https://m.media-amazon.com/images/I/81XKaSKvlyL._AC_UL320_.jpg\n",
      "https://m.media-amazon.com/images/I/71z4XhNt9FL._AC_UL320_.jpg\n",
      "https://m.media-amazon.com/images/I/81O9wR4lNvL._AC_UL320_.jpg\n",
      "https://m.media-amazon.com/images/I/91g4zRN8JZL._AC_UL320_.jpg\n",
      "https://m.media-amazon.com/images/I/81tlTKX+8iL._AC_UL320_.jpg\n",
      "https://m.media-amazon.com/images/I/71p0pEYo8aL._AC_UL320_.jpg\n",
      "https://m.media-amazon.com/images/I/718kNBrBueS._AC_UL320_.jpg\n",
      "https://m.media-amazon.com/images/I/81+hNX4KpSL._AC_UL320_.jpg\n",
      "https://m.media-amazon.com/images/I/71dJGnOosaL._AC_UL320_.jpg\n",
      "https://m.media-amazon.com/images/I/71b4GRgKoCL._AC_UL320_.jpg\n",
      "https://m.media-amazon.com/images/I/71ClFmEnyJL._AC_UL320_.jpg\n",
      "https://m.media-amazon.com/images/I/71RQisQ60+L._AC_UL320_.jpg\n",
      "https://m.media-amazon.com/images/I/616RM4ONyUS._AC_UL320_.jpg\n",
      "https://m.media-amazon.com/images/I/81+IelFS9+L._AC_UL320_.jpg\n",
      "https://m.media-amazon.com/images/I/71GJLSa4ysL._AC_UL320_.jpg\n",
      "https://m.media-amazon.com/images/I/81WwpOafDyL._AC_UL320_.jpg\n",
      "https://m.media-amazon.com/images/I/91QU3ekQyvL._AC_UL320_.jpg\n",
      "https://m.media-amazon.com/images/I/81HCWzL9J-L._AC_UL320_.jpg\n",
      "https://m.media-amazon.com/images/I/91yPghSgR8L._AC_UL320_.jpg\n",
      "https://m.media-amazon.com/images/I/91m-4ex+S+L._AC_UL320_.jpg\n",
      "https://m.media-amazon.com/images/I/61vvC0ufiXL._AC_UL320_.jpg\n",
      "https://m.media-amazon.com/images/I/813gBue+-vL._AC_UL320_.jpg\n",
      "https://m.media-amazon.com/images/I/6145npqbg4L._AC_UL320_.jpg\n",
      "https://m.media-amazon.com/images/I/61qpjzeLiAL._AC_UL320_.jpg\n",
      "https://m.media-amazon.com/images/I/91sOmAhoj+L._AC_UL320_.jpg\n",
      "https://m.media-amazon.com/images/I/91y1UWDohgL._AC_UL320_.jpg\n",
      "https://m.media-amazon.com/images/I/81uSvaWKNtL._AC_UL320_.jpg\n",
      "https://m.media-amazon.com/images/I/71TlcFDkIAL._AC_UL320_.jpg\n",
      "https://m.media-amazon.com/images/I/71TJ9p46PVL._AC_UL320_.jpg\n",
      "https://m.media-amazon.com/images/I/91Nfpvp1yhL._AC_UL320_.jpg\n",
      "https://m.media-amazon.com/images/I/614X5GVxohL._AC_UL320_.jpg\n",
      "https://m.media-amazon.com/images/I/816tsHX7+wL._AC_UL320_.jpg\n",
      "https://m.media-amazon.com/images/I/91WrV-42vFL._AC_UL320_.jpg\n",
      "https://m.media-amazon.com/images/I/61lf38lEkML._AC_UL320_.jpg\n",
      "https://m.media-amazon.com/images/I/81cLM+DgV2L._AC_UL320_.jpg\n"
     ]
    }
   ],
   "source": [
    "urls= []\n",
    "for image in images:\n",
    "    source= image.get_attribute('src')\n",
    "    urls.append(source)\n",
    "    print(source)"
   ]
  },
  {
   "cell_type": "code",
   "execution_count": 12,
   "metadata": {},
   "outputs": [
    {
     "data": {
      "text/plain": [
       "60"
      ]
     },
     "execution_count": 12,
     "metadata": {},
     "output_type": "execute_result"
    }
   ],
   "source": [
    "len(urls)"
   ]
  },
  {
   "cell_type": "markdown",
   "metadata": {},
   "source": [
    "# Using the URLs to download the images"
   ]
  },
  {
   "cell_type": "code",
   "execution_count": 13,
   "metadata": {},
   "outputs": [],
   "source": [
    "\n",
    "import shutil\n",
    "import requests"
   ]
  },
  {
   "cell_type": "code",
   "execution_count": 14,
   "metadata": {},
   "outputs": [
    {
     "name": "stdout",
     "output_type": "stream",
     "text": [
      "Downloading 1 of 60 images from page 1\n",
      "Downloading 2 of 60 images from page 1\n",
      "Downloading 3 of 60 images from page 1\n",
      "Downloading 4 of 60 images from page 1\n",
      "Downloading 5 of 60 images from page 1\n",
      "Downloading 6 of 60 images from page 1\n",
      "Downloading 7 of 60 images from page 1\n",
      "Downloading 8 of 60 images from page 1\n",
      "Downloading 9 of 60 images from page 1\n",
      "Downloading 10 of 60 images from page 1\n",
      "Downloading 11 of 60 images from page 1\n",
      "Downloading 12 of 60 images from page 1\n",
      "Downloading 13 of 60 images from page 1\n",
      "Downloading 14 of 60 images from page 1\n",
      "Downloading 15 of 60 images from page 1\n",
      "Downloading 16 of 60 images from page 1\n",
      "Downloading 17 of 60 images from page 1\n",
      "Downloading 18 of 60 images from page 1\n",
      "Downloading 19 of 60 images from page 1\n",
      "Downloading 20 of 60 images from page 1\n",
      "Downloading 21 of 60 images from page 1\n",
      "Downloading 22 of 60 images from page 1\n",
      "Downloading 23 of 60 images from page 1\n",
      "Downloading 24 of 60 images from page 1\n",
      "Downloading 25 of 60 images from page 1\n",
      "Downloading 26 of 60 images from page 1\n",
      "Downloading 27 of 60 images from page 1\n",
      "Downloading 28 of 60 images from page 1\n",
      "Downloading 29 of 60 images from page 1\n",
      "Downloading 30 of 60 images from page 1\n",
      "Downloading 31 of 60 images from page 1\n",
      "Downloading 32 of 60 images from page 1\n",
      "Downloading 33 of 60 images from page 1\n",
      "Downloading 34 of 60 images from page 1\n",
      "Downloading 35 of 60 images from page 1\n",
      "Downloading 36 of 60 images from page 1\n",
      "Downloading 37 of 60 images from page 1\n",
      "Downloading 38 of 60 images from page 1\n",
      "Downloading 39 of 60 images from page 1\n",
      "Downloading 40 of 60 images from page 1\n",
      "Downloading 41 of 60 images from page 1\n",
      "Downloading 42 of 60 images from page 1\n",
      "Downloading 43 of 60 images from page 1\n",
      "Downloading 44 of 60 images from page 1\n",
      "Downloading 45 of 60 images from page 1\n",
      "Downloading 46 of 60 images from page 1\n",
      "Downloading 47 of 60 images from page 1\n",
      "Downloading 48 of 60 images from page 1\n",
      "Downloading 49 of 60 images from page 1\n",
      "Downloading 50 of 60 images from page 1\n",
      "Downloading 51 of 60 images from page 1\n",
      "Downloading 52 of 60 images from page 1\n",
      "Downloading 53 of 60 images from page 1\n",
      "Downloading 54 of 60 images from page 1\n",
      "Downloading 55 of 60 images from page 1\n",
      "Downloading 56 of 60 images from page 1\n",
      "Downloading 57 of 60 images from page 1\n",
      "Downloading 58 of 60 images from page 1\n",
      "Downloading 59 of 60 images from page 1\n",
      "Downloading 60 of 60 images from page 1\n"
     ]
    }
   ],
   "source": [
    "page=1\n",
    "for index, link in enumerate(urls):\n",
    "    print('Downloading {0} of {1} images from page 1'.format(index+1,len(urls)))\n",
    "    response=requests.get(link)\n",
    "    with open('Sarees/img_{0}{1}.jpeg'.format(index,page),'wb') as file:\n",
    "        file.write(response.content)"
   ]
  },
  {
   "cell_type": "markdown",
   "metadata": {},
   "source": [
    "# Now moving to the next page"
   ]
  },
  {
   "cell_type": "code",
   "execution_count": 15,
   "metadata": {},
   "outputs": [],
   "source": [
    "next_page=driver.find_element_by_xpath('//li[@class=\"a-last\"]//a').click()"
   ]
  },
  {
   "cell_type": "code",
   "execution_count": 16,
   "metadata": {},
   "outputs": [],
   "source": [
    "images = driver.find_elements_by_xpath(\"//div/img[@class='s-image']\")"
   ]
  },
  {
   "cell_type": "code",
   "execution_count": 17,
   "metadata": {},
   "outputs": [
    {
     "name": "stdout",
     "output_type": "stream",
     "text": [
      "60\n"
     ]
    }
   ],
   "source": [
    "print(len(images))"
   ]
  },
  {
   "cell_type": "code",
   "execution_count": 18,
   "metadata": {},
   "outputs": [
    {
     "name": "stdout",
     "output_type": "stream",
     "text": [
      "https://m.media-amazon.com/images/I/81Cl60bOS8L._AC_UL320_.jpg\n",
      "https://m.media-amazon.com/images/I/41cc2sbFfUL._AC_UL320_.jpg\n",
      "https://m.media-amazon.com/images/I/71rkhbGQpBL._AC_UL320_.jpg\n",
      "https://m.media-amazon.com/images/I/91LppXCAN2L._AC_UL320_.jpg\n",
      "https://m.media-amazon.com/images/I/61xzq-xikCL._AC_UL320_.jpg\n",
      "https://m.media-amazon.com/images/I/81K1JEgMxcL._AC_UL320_.jpg\n",
      "https://m.media-amazon.com/images/I/81JE98ug38L._AC_UL320_.jpg\n",
      "https://m.media-amazon.com/images/I/71Kt8L4qEoL._AC_UL320_.jpg\n",
      "https://m.media-amazon.com/images/I/81Ip+-IwTRL._AC_UL320_.jpg\n",
      "https://m.media-amazon.com/images/I/91J92wiWVML._AC_UL320_.jpg\n",
      "https://m.media-amazon.com/images/I/91aFmzs5YOL._AC_UL320_.jpg\n",
      "https://m.media-amazon.com/images/I/61iM6NT959L._AC_UL320_.jpg\n",
      "https://m.media-amazon.com/images/I/411u0fnTG+L._AC_UL320_.jpg\n",
      "https://m.media-amazon.com/images/I/71QX+cXqEvL._AC_UL320_.jpg\n",
      "https://m.media-amazon.com/images/I/819Z7uWZTVL._AC_UL320_.jpg\n",
      "https://m.media-amazon.com/images/I/71KJSkXHi1L._AC_UL320_.jpg\n",
      "https://m.media-amazon.com/images/I/61Y3ALR+XiL._AC_UL320_.jpg\n",
      "https://m.media-amazon.com/images/I/71iEwVnokcL._AC_UL320_.jpg\n",
      "https://m.media-amazon.com/images/I/71pg2P+tr2L._AC_UL320_.jpg\n",
      "https://m.media-amazon.com/images/I/81qi7QCNSjL._AC_UL320_.jpg\n",
      "https://m.media-amazon.com/images/I/91ja3lgrNqL._AC_UL320_.jpg\n",
      "https://m.media-amazon.com/images/I/81jdVnMelhL._AC_UL320_.jpg\n",
      "https://m.media-amazon.com/images/I/71ba5eLi38S._AC_UL320_.jpg\n",
      "https://m.media-amazon.com/images/I/71TAzjyhzyL._AC_UL320_.jpg\n",
      "https://m.media-amazon.com/images/I/81g1gLo8TRL._AC_UL320_.jpg\n",
      "https://m.media-amazon.com/images/I/91RLBThNNhL._AC_UL320_.jpg\n",
      "https://m.media-amazon.com/images/I/91hF3G-cEIL._AC_UL320_.jpg\n",
      "https://m.media-amazon.com/images/I/91tEl7IZ-WL._AC_UL320_.jpg\n",
      "https://m.media-amazon.com/images/I/71oMjTfyLPL._AC_UL320_.jpg\n",
      "https://m.media-amazon.com/images/I/91whCg0TywL._AC_UL320_.jpg\n",
      "https://m.media-amazon.com/images/I/91z+7-gnSUL._AC_UL320_.jpg\n",
      "https://m.media-amazon.com/images/I/61EvPLNdVBL._AC_UL320_.jpg\n",
      "https://m.media-amazon.com/images/I/81Pxmepi-mL._AC_UL320_.jpg\n",
      "https://m.media-amazon.com/images/I/715NYXDhD-L._AC_UL320_.jpg\n",
      "https://m.media-amazon.com/images/I/81K6llffQVL._AC_UL320_.jpg\n",
      "https://m.media-amazon.com/images/I/816euMmBoCL._AC_UL320_.jpg\n",
      "https://m.media-amazon.com/images/I/51C7ZKjuhTL._AC_UL320_.jpg\n",
      "https://m.media-amazon.com/images/I/41FVqYgnEaL._AC_UL320_.jpg\n",
      "https://m.media-amazon.com/images/I/71xE92l+GGL._AC_UL320_.jpg\n",
      "https://m.media-amazon.com/images/I/61rU8aKaboL._AC_UL320_.jpg\n",
      "https://m.media-amazon.com/images/I/416cANqGd-L._AC_UL320_.jpg\n",
      "https://m.media-amazon.com/images/I/81lSIxPuSdL._AC_UL320_.jpg\n",
      "https://m.media-amazon.com/images/I/81u7FYrQPpL._AC_UL320_.jpg\n",
      "https://m.media-amazon.com/images/I/71y-fzR6gAL._AC_UL320_.jpg\n",
      "https://m.media-amazon.com/images/I/41wSVGnGRiS._AC_UL320_.jpg\n",
      "https://m.media-amazon.com/images/I/71LhLWXkVmL._AC_UL320_.jpg\n",
      "https://m.media-amazon.com/images/I/81XohFfV0QL._AC_UL320_.jpg\n",
      "https://m.media-amazon.com/images/I/81r3HNABJHL._AC_UL320_.jpg\n",
      "https://m.media-amazon.com/images/I/91I6yY73p3L._AC_UL320_.jpg\n",
      "https://m.media-amazon.com/images/I/91hnpooM-yL._AC_UL320_.jpg\n",
      "https://m.media-amazon.com/images/I/91dARl86EyL._AC_UL320_.jpg\n",
      "https://m.media-amazon.com/images/I/71DLhI+syxL._AC_UL320_.jpg\n",
      "https://m.media-amazon.com/images/I/91i2qlD-Z-L._AC_UL320_.jpg\n",
      "https://m.media-amazon.com/images/I/91WhcLH0RbL._AC_UL320_.jpg\n",
      "https://m.media-amazon.com/images/I/81couxittmL._AC_UL320_.jpg\n",
      "https://m.media-amazon.com/images/I/91zQfiaYqwL._AC_UL320_.jpg\n",
      "https://m.media-amazon.com/images/I/81J4-mtpYQS._AC_UL320_.jpg\n",
      "https://m.media-amazon.com/images/I/8173DboMuVL._AC_UL320_.jpg\n",
      "https://m.media-amazon.com/images/I/61VfF6zePiL._AC_UL320_.jpg\n",
      "https://m.media-amazon.com/images/I/81KDP7BGdsL._AC_UL320_.jpg\n"
     ]
    }
   ],
   "source": [
    "urls=[]\n",
    "for image in images:\n",
    "    source=image.get_attribute('src')\n",
    "    urls.append(source)\n",
    "    print(source)"
   ]
  },
  {
   "cell_type": "code",
   "execution_count": 19,
   "metadata": {},
   "outputs": [
    {
     "name": "stdout",
     "output_type": "stream",
     "text": [
      "Downloading 1 of 60 images from page 2\n",
      "Downloading 2 of 60 images from page 2\n",
      "Downloading 3 of 60 images from page 2\n",
      "Downloading 4 of 60 images from page 2\n",
      "Downloading 5 of 60 images from page 2\n",
      "Downloading 6 of 60 images from page 2\n",
      "Downloading 7 of 60 images from page 2\n",
      "Downloading 8 of 60 images from page 2\n",
      "Downloading 9 of 60 images from page 2\n",
      "Downloading 10 of 60 images from page 2\n",
      "Downloading 11 of 60 images from page 2\n",
      "Downloading 12 of 60 images from page 2\n",
      "Downloading 13 of 60 images from page 2\n",
      "Downloading 14 of 60 images from page 2\n",
      "Downloading 15 of 60 images from page 2\n",
      "Downloading 16 of 60 images from page 2\n",
      "Downloading 17 of 60 images from page 2\n",
      "Downloading 18 of 60 images from page 2\n",
      "Downloading 19 of 60 images from page 2\n",
      "Downloading 20 of 60 images from page 2\n",
      "Downloading 21 of 60 images from page 2\n",
      "Downloading 22 of 60 images from page 2\n",
      "Downloading 23 of 60 images from page 2\n",
      "Downloading 24 of 60 images from page 2\n",
      "Downloading 25 of 60 images from page 2\n",
      "Downloading 26 of 60 images from page 2\n",
      "Downloading 27 of 60 images from page 2\n",
      "Downloading 28 of 60 images from page 2\n",
      "Downloading 29 of 60 images from page 2\n",
      "Downloading 30 of 60 images from page 2\n",
      "Downloading 31 of 60 images from page 2\n",
      "Downloading 32 of 60 images from page 2\n",
      "Downloading 33 of 60 images from page 2\n",
      "Downloading 34 of 60 images from page 2\n",
      "Downloading 35 of 60 images from page 2\n",
      "Downloading 36 of 60 images from page 2\n",
      "Downloading 37 of 60 images from page 2\n",
      "Downloading 38 of 60 images from page 2\n",
      "Downloading 39 of 60 images from page 2\n",
      "Downloading 40 of 60 images from page 2\n",
      "Downloading 41 of 60 images from page 2\n",
      "Downloading 42 of 60 images from page 2\n",
      "Downloading 43 of 60 images from page 2\n",
      "Downloading 44 of 60 images from page 2\n",
      "Downloading 45 of 60 images from page 2\n",
      "Downloading 46 of 60 images from page 2\n",
      "Downloading 47 of 60 images from page 2\n",
      "Downloading 48 of 60 images from page 2\n",
      "Downloading 49 of 60 images from page 2\n",
      "Downloading 50 of 60 images from page 2\n",
      "Downloading 51 of 60 images from page 2\n",
      "Downloading 52 of 60 images from page 2\n",
      "Downloading 53 of 60 images from page 2\n",
      "Downloading 54 of 60 images from page 2\n",
      "Downloading 55 of 60 images from page 2\n",
      "Downloading 56 of 60 images from page 2\n",
      "Downloading 57 of 60 images from page 2\n",
      "Downloading 58 of 60 images from page 2\n",
      "Downloading 59 of 60 images from page 2\n",
      "Downloading 60 of 60 images from page 2\n"
     ]
    }
   ],
   "source": [
    "page=2\n",
    "for index, link in enumerate(urls):\n",
    "    print('Downloading {0} of {1} images from page 2'.format(index+1,len(urls)))\n",
    "    response=requests.get(link)\n",
    "    with open('Sarees/img_{0}{1}.jpeg'.format(index,page),'wb') as file:\n",
    "        file.write(response.content)"
   ]
  },
  {
   "cell_type": "code",
   "execution_count": 20,
   "metadata": {},
   "outputs": [],
   "source": [
    "next_page=driver.find_element_by_xpath('//li[@class=\"a-last\"]//a').click()"
   ]
  },
  {
   "cell_type": "code",
   "execution_count": 21,
   "metadata": {},
   "outputs": [],
   "source": [
    "images = driver.find_elements_by_xpath(\"//div/img[@class='s-image']\")"
   ]
  },
  {
   "cell_type": "code",
   "execution_count": 22,
   "metadata": {},
   "outputs": [
    {
     "name": "stdout",
     "output_type": "stream",
     "text": [
      "60\n"
     ]
    }
   ],
   "source": [
    "print(len(images))"
   ]
  },
  {
   "cell_type": "code",
   "execution_count": 23,
   "metadata": {},
   "outputs": [
    {
     "name": "stdout",
     "output_type": "stream",
     "text": [
      "https://m.media-amazon.com/images/I/410O7j6xmAL._AC_UL320_.jpg\n",
      "https://m.media-amazon.com/images/I/71yvvRArSjL._AC_UL320_.jpg\n",
      "https://m.media-amazon.com/images/I/81xsWu+GBvL._AC_UL320_.jpg\n",
      "https://m.media-amazon.com/images/I/91uZijIdjQL._AC_UL320_.jpg\n",
      "https://m.media-amazon.com/images/I/91i2qlD-Z-L._AC_UL320_.jpg\n",
      "https://m.media-amazon.com/images/I/91WhcLH0RbL._AC_UL320_.jpg\n",
      "https://m.media-amazon.com/images/I/91zQfiaYqwL._AC_UL320_.jpg\n",
      "https://m.media-amazon.com/images/I/81s4hVMBN3L._AC_UL320_.jpg\n",
      "https://m.media-amazon.com/images/I/511CLqMrkIL._AC_UL320_.jpg\n",
      "https://m.media-amazon.com/images/I/71gUoQTjfML._AC_UL320_.jpg\n",
      "https://m.media-amazon.com/images/I/91zuOcKe0YL._AC_UL320_.jpg\n",
      "https://m.media-amazon.com/images/I/71hGCxWMYXL._AC_UL320_.jpg\n",
      "https://m.media-amazon.com/images/I/71qLT3-G4bL._AC_UL320_.jpg\n",
      "https://m.media-amazon.com/images/I/71amXwISKYL._AC_UL320_.jpg\n",
      "https://m.media-amazon.com/images/I/81Yoja+YbcL._AC_UL320_.jpg\n",
      "https://m.media-amazon.com/images/I/61XMgjfqaoL._AC_UL320_.jpg\n",
      "https://m.media-amazon.com/images/I/91aFmzs5YOL._AC_UL320_.jpg\n",
      "https://m.media-amazon.com/images/I/916ROGKpL1L._AC_UL320_.jpg\n",
      "https://m.media-amazon.com/images/I/61l1ns1H8FL._AC_UL320_.jpg\n",
      "https://m.media-amazon.com/images/I/816tsHX7+wL._AC_UL320_.jpg\n",
      "https://m.media-amazon.com/images/I/71hEZa1E4aS._AC_UL320_.jpg\n",
      "https://m.media-amazon.com/images/I/817rHb-KNWL._AC_UL320_.jpg\n",
      "https://m.media-amazon.com/images/I/9166SWI22uL._AC_UL320_.jpg\n",
      "https://m.media-amazon.com/images/I/91whCg0TywL._AC_UL320_.jpg\n",
      "https://m.media-amazon.com/images/I/91deNTaY9mL._AC_UL320_.jpg\n",
      "https://m.media-amazon.com/images/I/81DcQcYTZEL._AC_UL320_.jpg\n",
      "https://m.media-amazon.com/images/I/51r7L8ZWktL._AC_UL320_.jpg\n",
      "https://m.media-amazon.com/images/I/71xE92l+GGL._AC_UL320_.jpg\n",
      "https://m.media-amazon.com/images/I/81huasHWYuL._AC_UL320_.jpg\n",
      "https://m.media-amazon.com/images/I/71CPfiKpWmL._AC_UL320_.jpg\n",
      "https://m.media-amazon.com/images/I/61bQC5AMyAL._AC_UL320_.jpg\n",
      "https://m.media-amazon.com/images/I/61c1BEERDTL._AC_UL320_.jpg\n",
      "https://m.media-amazon.com/images/I/71mgGHhtZOL._AC_UL320_.jpg\n",
      "https://m.media-amazon.com/images/I/81Y7OYHeX5L._AC_UL320_.jpg\n",
      "https://m.media-amazon.com/images/I/81ZlSg0IlpL._AC_UL320_.jpg\n",
      "https://m.media-amazon.com/images/I/A10fSx-NHoL._AC_UL320_.jpg\n",
      "https://m.media-amazon.com/images/I/71LZF0v4o8L._AC_UL320_.jpg\n",
      "https://m.media-amazon.com/images/I/71WOfEeeSaL._AC_UL320_.jpg\n",
      "https://m.media-amazon.com/images/I/81HJF0P1yML._AC_UL320_.jpg\n",
      "https://m.media-amazon.com/images/I/816ycw5ku4L._AC_UL320_.jpg\n",
      "https://m.media-amazon.com/images/I/818waCM6fIL._AC_UL320_.jpg\n",
      "https://m.media-amazon.com/images/I/81h7PuLq-yL._AC_UL320_.jpg\n",
      "https://m.media-amazon.com/images/I/51qt19-n6tL._AC_UL320_.jpg\n",
      "https://m.media-amazon.com/images/I/91KPk+N377L._AC_UL320_.jpg\n",
      "https://m.media-amazon.com/images/I/91uVdKzoq-L._AC_UL320_.jpg\n",
      "https://m.media-amazon.com/images/I/619P71LKIkL._AC_UL320_.jpg\n",
      "https://m.media-amazon.com/images/I/91qr5nl9kIL._AC_UL320_.jpg\n",
      "https://m.media-amazon.com/images/I/818HzNJXa7L._AC_UL320_.jpg\n",
      "https://m.media-amazon.com/images/I/71QAhmh4dgL._AC_UL320_.jpg\n",
      "https://m.media-amazon.com/images/I/71AB3ZkmnfL._AC_UL320_.jpg\n",
      "https://m.media-amazon.com/images/I/41nwPDJDUvL._AC_UL320_.jpg\n",
      "https://m.media-amazon.com/images/I/81RWd6HcufL._AC_UL320_.jpg\n",
      "https://m.media-amazon.com/images/I/81tFwefyA1L._AC_UL320_.jpg\n",
      "https://m.media-amazon.com/images/I/813AnlJt0ML._AC_UL320_.jpg\n",
      "https://m.media-amazon.com/images/I/41iEMjUUDbL._AC_UL320_.jpg\n",
      "https://m.media-amazon.com/images/I/91xlaR9CdSL._AC_UL320_.jpg\n",
      "https://m.media-amazon.com/images/I/71ZLURaYswL._AC_UL320_.jpg\n",
      "https://m.media-amazon.com/images/I/8180f99wf+L._AC_UL320_.jpg\n",
      "https://m.media-amazon.com/images/I/91ZpbKabssL._AC_UL320_.jpg\n",
      "https://m.media-amazon.com/images/I/91GEnxtlqPL._AC_UL320_.jpg\n"
     ]
    }
   ],
   "source": [
    "urls=[]\n",
    "for image in images:\n",
    "    source=image.get_attribute('src')\n",
    "    urls.append(source)\n",
    "    print(source)"
   ]
  },
  {
   "cell_type": "code",
   "execution_count": 24,
   "metadata": {},
   "outputs": [
    {
     "name": "stdout",
     "output_type": "stream",
     "text": [
      "Downloading 1 of 60 images from page 3\n",
      "Downloading 2 of 60 images from page 3\n",
      "Downloading 3 of 60 images from page 3\n",
      "Downloading 4 of 60 images from page 3\n",
      "Downloading 5 of 60 images from page 3\n",
      "Downloading 6 of 60 images from page 3\n",
      "Downloading 7 of 60 images from page 3\n",
      "Downloading 8 of 60 images from page 3\n",
      "Downloading 9 of 60 images from page 3\n",
      "Downloading 10 of 60 images from page 3\n",
      "Downloading 11 of 60 images from page 3\n",
      "Downloading 12 of 60 images from page 3\n",
      "Downloading 13 of 60 images from page 3\n",
      "Downloading 14 of 60 images from page 3\n",
      "Downloading 15 of 60 images from page 3\n",
      "Downloading 16 of 60 images from page 3\n",
      "Downloading 17 of 60 images from page 3\n",
      "Downloading 18 of 60 images from page 3\n",
      "Downloading 19 of 60 images from page 3\n",
      "Downloading 20 of 60 images from page 3\n",
      "Downloading 21 of 60 images from page 3\n",
      "Downloading 22 of 60 images from page 3\n",
      "Downloading 23 of 60 images from page 3\n",
      "Downloading 24 of 60 images from page 3\n",
      "Downloading 25 of 60 images from page 3\n",
      "Downloading 26 of 60 images from page 3\n",
      "Downloading 27 of 60 images from page 3\n",
      "Downloading 28 of 60 images from page 3\n",
      "Downloading 29 of 60 images from page 3\n",
      "Downloading 30 of 60 images from page 3\n",
      "Downloading 31 of 60 images from page 3\n",
      "Downloading 32 of 60 images from page 3\n",
      "Downloading 33 of 60 images from page 3\n",
      "Downloading 34 of 60 images from page 3\n",
      "Downloading 35 of 60 images from page 3\n",
      "Downloading 36 of 60 images from page 3\n",
      "Downloading 37 of 60 images from page 3\n",
      "Downloading 38 of 60 images from page 3\n",
      "Downloading 39 of 60 images from page 3\n",
      "Downloading 40 of 60 images from page 3\n",
      "Downloading 41 of 60 images from page 3\n",
      "Downloading 42 of 60 images from page 3\n",
      "Downloading 43 of 60 images from page 3\n",
      "Downloading 44 of 60 images from page 3\n",
      "Downloading 45 of 60 images from page 3\n",
      "Downloading 46 of 60 images from page 3\n",
      "Downloading 47 of 60 images from page 3\n",
      "Downloading 48 of 60 images from page 3\n",
      "Downloading 49 of 60 images from page 3\n",
      "Downloading 50 of 60 images from page 3\n",
      "Downloading 51 of 60 images from page 3\n",
      "Downloading 52 of 60 images from page 3\n",
      "Downloading 53 of 60 images from page 3\n",
      "Downloading 54 of 60 images from page 3\n",
      "Downloading 55 of 60 images from page 3\n",
      "Downloading 56 of 60 images from page 3\n",
      "Downloading 57 of 60 images from page 3\n",
      "Downloading 58 of 60 images from page 3\n",
      "Downloading 59 of 60 images from page 3\n",
      "Downloading 60 of 60 images from page 3\n"
     ]
    }
   ],
   "source": [
    "page=3\n",
    "for index, link in enumerate(urls):\n",
    "    print('Downloading {0} of {1} images from page 3'.format(index+1,len(urls)))\n",
    "    response=requests.get(link)\n",
    "    with open('Sarees/img_{0}{1}.jpeg'.format(index,page),'wb') as file:\n",
    "        file.write(response.content)"
   ]
  },
  {
   "cell_type": "code",
   "execution_count": 25,
   "metadata": {},
   "outputs": [],
   "source": [
    "next_page=driver.find_element_by_xpath('//li[@class=\"a-last\"]//a').click()"
   ]
  },
  {
   "cell_type": "code",
   "execution_count": 26,
   "metadata": {},
   "outputs": [],
   "source": [
    "images= driver.find_elements_by_xpath(\"//div/img[@class='s-image']\")"
   ]
  },
  {
   "cell_type": "code",
   "execution_count": 27,
   "metadata": {},
   "outputs": [
    {
     "name": "stdout",
     "output_type": "stream",
     "text": [
      "60\n"
     ]
    }
   ],
   "source": [
    "print(len(images))"
   ]
  },
  {
   "cell_type": "code",
   "execution_count": 28,
   "metadata": {},
   "outputs": [
    {
     "name": "stdout",
     "output_type": "stream",
     "text": [
      "https://m.media-amazon.com/images/I/91yS1Ea+WOL._AC_UL320_.jpg\n",
      "https://m.media-amazon.com/images/I/81bTkQIOL0L._AC_UL320_.jpg\n",
      "https://m.media-amazon.com/images/I/81bd2MlLkqL._AC_UL320_.jpg\n",
      "https://m.media-amazon.com/images/I/41WLyOFYpyL._AC_UL320_.jpg\n",
      "https://m.media-amazon.com/images/I/91W8NGBDhBL._AC_UL320_.jpg\n",
      "https://m.media-amazon.com/images/I/41iEMjUUDbL._AC_UL320_.jpg\n",
      "https://m.media-amazon.com/images/I/91xlaR9CdSL._AC_UL320_.jpg\n",
      "https://m.media-amazon.com/images/I/91Ggz+E6uNL._AC_UL320_.jpg\n",
      "https://m.media-amazon.com/images/I/712utRBG0+L._AC_UL320_.jpg\n",
      "https://m.media-amazon.com/images/I/71kUjWCRTzL._AC_UL320_.jpg\n",
      "https://m.media-amazon.com/images/I/81FBLgbFCsL._AC_UL320_.jpg\n",
      "https://m.media-amazon.com/images/I/71PaMJ-eLQL._AC_UL320_.jpg\n",
      "https://m.media-amazon.com/images/I/71798IsrySL._AC_UL320_.jpg\n",
      "https://m.media-amazon.com/images/I/91fDy-jVCjL._AC_UL320_.jpg\n",
      "https://m.media-amazon.com/images/I/81njj0BFP6L._AC_UL320_.jpg\n",
      "https://m.media-amazon.com/images/I/61OFsrdRVhL._AC_UL320_.jpg\n",
      "https://m.media-amazon.com/images/I/817C-XDqT1L._AC_UL320_.jpg\n",
      "https://m.media-amazon.com/images/I/71-gZXU6MZL._AC_UL320_.jpg\n",
      "https://m.media-amazon.com/images/I/91iumNZr5KL._AC_UL320_.jpg\n",
      "https://m.media-amazon.com/images/I/815SZPYz7gL._AC_UL320_.jpg\n",
      "https://m.media-amazon.com/images/I/71zyfFr6wYL._AC_UL320_.jpg\n",
      "https://m.media-amazon.com/images/I/91kfT78ml7L._AC_UL320_.jpg\n",
      "https://m.media-amazon.com/images/I/81DpezeK8JL._AC_UL320_.jpg\n",
      "https://m.media-amazon.com/images/I/51bjH0q+lrL._AC_UL320_.jpg\n",
      "https://m.media-amazon.com/images/I/71UNaMkcF+L._AC_UL320_.jpg\n",
      "https://m.media-amazon.com/images/I/912Be1TE73L._AC_UL320_.jpg\n",
      "https://m.media-amazon.com/images/I/61jEYed5YJS._AC_UL320_.jpg\n",
      "https://m.media-amazon.com/images/I/91ByTSjPJ+L._AC_UL320_.jpg\n",
      "https://m.media-amazon.com/images/I/91BJcdyXRML._AC_UL320_.jpg\n",
      "https://m.media-amazon.com/images/I/712BvZclUFL._AC_UL320_.jpg\n",
      "https://m.media-amazon.com/images/I/91BnRyHnzqL._AC_UL320_.jpg\n",
      "https://m.media-amazon.com/images/I/71yVcxhz4vL._AC_UL320_.jpg\n",
      "https://m.media-amazon.com/images/I/41-sbWcy9DL._AC_UL320_.jpg\n",
      "https://m.media-amazon.com/images/I/71j07HbrBnL._AC_UL320_.jpg\n",
      "https://m.media-amazon.com/images/I/91-Hm4cW6YL._AC_UL320_.jpg\n",
      "https://m.media-amazon.com/images/I/71Dc+BNMpjL._AC_UL320_.jpg\n",
      "https://m.media-amazon.com/images/I/61IjjCxlFJL._AC_UL320_.jpg\n",
      "https://m.media-amazon.com/images/I/81pGetln1LL._AC_UL320_.jpg\n",
      "https://m.media-amazon.com/images/I/41PC3l8fJiL._AC_UL320_.jpg\n",
      "https://m.media-amazon.com/images/I/71xE92l+GGL._AC_UL320_.jpg\n",
      "https://m.media-amazon.com/images/I/6150T8crM7L._AC_UL320_.jpg\n",
      "https://m.media-amazon.com/images/I/913Ej-FCW-L._AC_UL320_.jpg\n",
      "https://m.media-amazon.com/images/I/61WRxvnuk3L._AC_UL320_.jpg\n",
      "https://m.media-amazon.com/images/I/51labafHkGL._AC_UL320_.jpg\n",
      "https://m.media-amazon.com/images/I/51c9ThexzYL._AC_UL320_.jpg\n",
      "https://m.media-amazon.com/images/I/91vcJBGXqIL._AC_UL320_.jpg\n",
      "https://m.media-amazon.com/images/I/81YPLZ3MdRL._AC_UL320_.jpg\n",
      "https://m.media-amazon.com/images/I/61-48FSeDYL._AC_UL320_.jpg\n",
      "https://m.media-amazon.com/images/I/71fhnjPoLgL._AC_UL320_.jpg\n",
      "https://m.media-amazon.com/images/I/71KGXpiEWRL._AC_UL320_.jpg\n",
      "https://m.media-amazon.com/images/I/81WxcbR7gBL._AC_UL320_.jpg\n",
      "https://m.media-amazon.com/images/I/81piPQ3XjgL._AC_UL320_.jpg\n",
      "https://m.media-amazon.com/images/I/910BCXXHQfL._AC_UL320_.jpg\n",
      "https://m.media-amazon.com/images/I/81hXpq7Jv3L._AC_UL320_.jpg\n",
      "https://m.media-amazon.com/images/I/A16evjuL20L._AC_UL320_.jpg\n",
      "https://m.media-amazon.com/images/I/91YFGHzjm4L._AC_UL320_.jpg\n",
      "https://m.media-amazon.com/images/I/91B7D2Azd0L._AC_UL320_.jpg\n",
      "https://m.media-amazon.com/images/I/81GcIyFA-JL._AC_UL320_.jpg\n",
      "https://m.media-amazon.com/images/I/918-2lJE2dL._AC_UL320_.jpg\n",
      "https://m.media-amazon.com/images/I/81nARqwhDFL._AC_UL320_.jpg\n"
     ]
    }
   ],
   "source": [
    "urls=[]\n",
    "for image in images:\n",
    "    source=image.get_attribute('src')\n",
    "    urls.append(source)\n",
    "    print(source)"
   ]
  },
  {
   "cell_type": "code",
   "execution_count": 29,
   "metadata": {},
   "outputs": [
    {
     "name": "stdout",
     "output_type": "stream",
     "text": [
      "Downloading 1 of 60 images from page 4\n",
      "Downloading 2 of 60 images from page 4\n",
      "Downloading 3 of 60 images from page 4\n",
      "Downloading 4 of 60 images from page 4\n",
      "Downloading 5 of 60 images from page 4\n",
      "Downloading 6 of 60 images from page 4\n",
      "Downloading 7 of 60 images from page 4\n",
      "Downloading 8 of 60 images from page 4\n",
      "Downloading 9 of 60 images from page 4\n",
      "Downloading 10 of 60 images from page 4\n",
      "Downloading 11 of 60 images from page 4\n",
      "Downloading 12 of 60 images from page 4\n",
      "Downloading 13 of 60 images from page 4\n",
      "Downloading 14 of 60 images from page 4\n",
      "Downloading 15 of 60 images from page 4\n",
      "Downloading 16 of 60 images from page 4\n",
      "Downloading 17 of 60 images from page 4\n",
      "Downloading 18 of 60 images from page 4\n",
      "Downloading 19 of 60 images from page 4\n",
      "Downloading 20 of 60 images from page 4\n",
      "Downloading 21 of 60 images from page 4\n",
      "Downloading 22 of 60 images from page 4\n",
      "Downloading 23 of 60 images from page 4\n",
      "Downloading 24 of 60 images from page 4\n",
      "Downloading 25 of 60 images from page 4\n",
      "Downloading 26 of 60 images from page 4\n",
      "Downloading 27 of 60 images from page 4\n",
      "Downloading 28 of 60 images from page 4\n",
      "Downloading 29 of 60 images from page 4\n",
      "Downloading 30 of 60 images from page 4\n",
      "Downloading 31 of 60 images from page 4\n",
      "Downloading 32 of 60 images from page 4\n",
      "Downloading 33 of 60 images from page 4\n",
      "Downloading 34 of 60 images from page 4\n",
      "Downloading 35 of 60 images from page 4\n",
      "Downloading 36 of 60 images from page 4\n",
      "Downloading 37 of 60 images from page 4\n",
      "Downloading 38 of 60 images from page 4\n",
      "Downloading 39 of 60 images from page 4\n",
      "Downloading 40 of 60 images from page 4\n",
      "Downloading 41 of 60 images from page 4\n",
      "Downloading 42 of 60 images from page 4\n",
      "Downloading 43 of 60 images from page 4\n",
      "Downloading 44 of 60 images from page 4\n",
      "Downloading 45 of 60 images from page 4\n",
      "Downloading 46 of 60 images from page 4\n",
      "Downloading 47 of 60 images from page 4\n",
      "Downloading 48 of 60 images from page 4\n",
      "Downloading 49 of 60 images from page 4\n",
      "Downloading 50 of 60 images from page 4\n",
      "Downloading 51 of 60 images from page 4\n",
      "Downloading 52 of 60 images from page 4\n",
      "Downloading 53 of 60 images from page 4\n",
      "Downloading 54 of 60 images from page 4\n",
      "Downloading 55 of 60 images from page 4\n",
      "Downloading 56 of 60 images from page 4\n",
      "Downloading 57 of 60 images from page 4\n",
      "Downloading 58 of 60 images from page 4\n",
      "Downloading 59 of 60 images from page 4\n",
      "Downloading 60 of 60 images from page 4\n"
     ]
    }
   ],
   "source": [
    "page=4\n",
    "for index, link in enumerate(urls):\n",
    "    print('Downloading {0} of {1} images from page 4'.format(index+1,len(urls)))\n",
    "    response=requests.get(link)\n",
    "    with open('Sarees/img_{0}{1}.jpeg'.format(index,page),'wb') as file:\n",
    "        file.write(response.content)"
   ]
  },
  {
   "cell_type": "markdown",
   "metadata": {},
   "source": [
    "# Trousers (men)"
   ]
  },
  {
   "cell_type": "code",
   "execution_count": 30,
   "metadata": {},
   "outputs": [],
   "source": [
    "url= driver.get('https://www.amazon.in/s?k=trousers+for+men&crid=368ARYN34ETWH&sprefix=trousers%2Caps%2C310&ref=nb_sb_ss_ts-doa-p_1_8')"
   ]
  },
  {
   "cell_type": "code",
   "execution_count": 31,
   "metadata": {},
   "outputs": [],
   "source": [
    "def make_directory(dirname):\n",
    "    current_path=os.getcwd()\n",
    "    path=os.path.join(current_path,dirname)\n",
    "    if not os.path.exists(path):\n",
    "        os.makedirs(path)"
   ]
  },
  {
   "cell_type": "code",
   "execution_count": 32,
   "metadata": {},
   "outputs": [],
   "source": [
    "make_directory('Trousers (men)')"
   ]
  },
  {
   "cell_type": "code",
   "execution_count": 35,
   "metadata": {},
   "outputs": [],
   "source": [
    "images = driver.find_elements_by_xpath(\"//img[@class='s-image']\")"
   ]
  },
  {
   "cell_type": "code",
   "execution_count": 36,
   "metadata": {},
   "outputs": [
    {
     "name": "stdout",
     "output_type": "stream",
     "text": [
      "65\n"
     ]
    }
   ],
   "source": [
    "\n",
    "print(len(images))"
   ]
  },
  {
   "cell_type": "code",
   "execution_count": 37,
   "metadata": {},
   "outputs": [
    {
     "data": {
      "text/plain": [
       "<selenium.webdriver.remote.webelement.WebElement (session=\"a9f35e07b9aa00a26a853caf08139200\", element=\"f1ea680b-ed7f-4fd1-9255-eb2c80314c68\")>"
      ]
     },
     "execution_count": 37,
     "metadata": {},
     "output_type": "execute_result"
    }
   ],
   "source": [
    "images[0]"
   ]
  },
  {
   "cell_type": "code",
   "execution_count": 38,
   "metadata": {},
   "outputs": [
    {
     "name": "stdout",
     "output_type": "stream",
     "text": [
      "https://m.media-amazon.com/images/I/61iDMhWM-zL._AC_UL320_.jpg\n",
      "https://m.media-amazon.com/images/I/71RWyH3Pu3L._AC_UL320_.jpg\n",
      "https://m.media-amazon.com/images/I/51fh+BDZ3gL._AC_UL320_.jpg\n",
      "https://m.media-amazon.com/images/I/61ELAf0ZLcL._AC_UL320_.jpg\n",
      "https://m.media-amazon.com/images/I/81O+FM8a11L._AC_UL320_.jpg\n",
      "https://m.media-amazon.com/images/I/71xYnc8HNlL._AC_UL320_.jpg\n",
      "https://m.media-amazon.com/images/I/81usRMjPZsL._AC_UL320_.jpg\n",
      "https://m.media-amazon.com/images/I/81Lg1x1O29L._AC_UL320_.jpg\n",
      "https://m.media-amazon.com/images/I/71UHoQ2wPzL._AC_UL320_.jpg\n",
      "https://m.media-amazon.com/images/I/71shJv0QjaL._AC_UL320_.jpg\n",
      "https://m.media-amazon.com/images/I/71UHoQ2wPzL._AC_UL320_.jpg\n",
      "https://m.media-amazon.com/images/I/71SCEIwfneL._AC_UL320_.jpg\n",
      "https://m.media-amazon.com/images/I/61vQJspgUXL._AC_UL320_.jpg\n",
      "https://m.media-amazon.com/images/I/812Bn+j5sOL._AC_UL320_.jpg\n",
      "https://m.media-amazon.com/images/I/81aKPu-Gl-L._AC_UL320_.jpg\n",
      "https://m.media-amazon.com/images/I/91M4Pm2cQhL._AC_UL320_.jpg\n",
      "https://m.media-amazon.com/images/I/61pRJxuoRQL._AC_UL320_.jpg\n",
      "https://m.media-amazon.com/images/I/61KwCbPkOyL._AC_UL320_.jpg\n",
      "https://m.media-amazon.com/images/I/81wUU9Ww7IL._AC_UL320_.jpg\n",
      "https://m.media-amazon.com/images/I/71zLO45349L._AC_UL320_.jpg\n",
      "https://m.media-amazon.com/images/I/61Qs1-Bde5L._AC_UL320_.jpg\n",
      "https://m.media-amazon.com/images/I/81luI6T+K9L._AC_UL320_.jpg\n",
      "https://m.media-amazon.com/images/I/61NKxXc+lIL._AC_UL320_.jpg\n",
      "https://m.media-amazon.com/images/I/31HzibjhPxL._AC_UL320_.jpg\n",
      "https://m.media-amazon.com/images/I/817XP-QTMaL._AC_UL320_.jpg\n",
      "https://m.media-amazon.com/images/I/71TL5-r7gNL._AC_UL320_.jpg\n",
      "https://m.media-amazon.com/images/I/71d30is7+BL._AC_UL320_.jpg\n",
      "https://m.media-amazon.com/images/I/81qlAAs0pDL._AC_UL320_.jpg\n",
      "https://m.media-amazon.com/images/I/61RH9HqtU5L._AC_UL320_.jpg\n",
      "https://m.media-amazon.com/images/I/81Yo5amNvfL._AC_UL320_.jpg\n",
      "https://m.media-amazon.com/images/I/317gUX0SmtL._AC_UL320_.jpg\n",
      "https://m.media-amazon.com/images/I/31QYXZdXqtL._AC_UL320_.jpg\n",
      "https://m.media-amazon.com/images/I/71+SNWIF2xL._AC_UL320_.jpg\n",
      "https://m.media-amazon.com/images/I/61K8hoUmP3L._AC_UL320_.jpg\n",
      "https://m.media-amazon.com/images/I/91SzMDeUoqL._AC_UL320_.jpg\n",
      "https://m.media-amazon.com/images/I/5161bTnHVeL._AC_UL320_.jpg\n",
      "https://m.media-amazon.com/images/I/61ELAf0ZLcL._AC_UL320_.jpg\n",
      "https://m.media-amazon.com/images/I/51yp3A8opQL._AC_UL320_.jpg\n",
      "https://m.media-amazon.com/images/I/81fqY4JLmWL._AC_UL320_.jpg\n",
      "https://m.media-amazon.com/images/I/81+I7P9yHiL._AC_UL320_.jpg\n",
      "https://m.media-amazon.com/images/I/71HCoH2h0QL._AC_UL320_.jpg\n",
      "https://m.media-amazon.com/images/I/A1fBThw6zmL._AC_UL320_.jpg\n",
      "https://m.media-amazon.com/images/I/71+Me4tElNL._AC_UL320_.jpg\n",
      "https://m.media-amazon.com/images/I/71XNKLBwy9L._AC_UL320_.jpg\n",
      "https://m.media-amazon.com/images/I/71jf8XEfhnL._AC_UL320_.jpg\n",
      "https://m.media-amazon.com/images/I/61c8hiNDy4S._AC_UL320_.jpg\n",
      "https://m.media-amazon.com/images/I/715yDb+WWJL._AC_UL320_.jpg\n",
      "https://m.media-amazon.com/images/I/91IXujHoOxL._AC_UL320_.jpg\n",
      "https://m.media-amazon.com/images/I/71haKlhpIgL._AC_UL320_.jpg\n",
      "https://m.media-amazon.com/images/I/51pTmEs9s-L._AC_UL320_.jpg\n",
      "https://m.media-amazon.com/images/I/71TDkBwZE3L._AC_UL320_.jpg\n",
      "https://m.media-amazon.com/images/I/41xTyVdh03L._AC_UL320_.jpg\n",
      "https://m.media-amazon.com/images/I/61IVNwKUE+L._AC_UL320_.jpg\n",
      "https://m.media-amazon.com/images/I/71sB30wbCTL._AC_UL320_.jpg\n",
      "https://m.media-amazon.com/images/I/91Bp6j3hdEL._AC_UL320_.jpg\n",
      "https://m.media-amazon.com/images/I/71obS6hjulL._AC_UL320_.jpg\n",
      "https://m.media-amazon.com/images/I/71+2vqn-2mL._AC_UL320_.jpg\n",
      "https://m.media-amazon.com/images/I/718AoRx9hgL._AC_UL320_.jpg\n",
      "https://m.media-amazon.com/images/I/91KESFkJGHL._AC_UL320_.jpg\n",
      "https://m.media-amazon.com/images/I/61T6Q6We-nL._AC_UL320_.jpg\n",
      "https://m.media-amazon.com/images/I/71XHgV07eCL._AC_UL320_.jpg\n",
      "https://m.media-amazon.com/images/I/71yXjuYYh6L._AC_UL320_.jpg\n",
      "https://m.media-amazon.com/images/I/71JjjVSH+5L._AC_UL320_.jpg\n",
      "https://m.media-amazon.com/images/I/712HV1Wk2kL._AC_UL320_.jpg\n",
      "https://m.media-amazon.com/images/I/718AoRx9hgL._AC_UL320_.jpg\n"
     ]
    }
   ],
   "source": [
    "urls=[]\n",
    "for image in images:\n",
    "    source=image.get_attribute('src')\n",
    "    urls.append(source)\n",
    "    print(source)"
   ]
  },
  {
   "cell_type": "code",
   "execution_count": 39,
   "metadata": {},
   "outputs": [
    {
     "data": {
      "text/plain": [
       "65"
      ]
     },
     "execution_count": 39,
     "metadata": {},
     "output_type": "execute_result"
    }
   ],
   "source": [
    "len(urls)"
   ]
  },
  {
   "cell_type": "code",
   "execution_count": 40,
   "metadata": {},
   "outputs": [
    {
     "name": "stdout",
     "output_type": "stream",
     "text": [
      "Downloading 1 of 65 images from page 1\n",
      "Downloading 2 of 65 images from page 1\n",
      "Downloading 3 of 65 images from page 1\n",
      "Downloading 4 of 65 images from page 1\n",
      "Downloading 5 of 65 images from page 1\n",
      "Downloading 6 of 65 images from page 1\n",
      "Downloading 7 of 65 images from page 1\n",
      "Downloading 8 of 65 images from page 1\n",
      "Downloading 9 of 65 images from page 1\n",
      "Downloading 10 of 65 images from page 1\n",
      "Downloading 11 of 65 images from page 1\n",
      "Downloading 12 of 65 images from page 1\n",
      "Downloading 13 of 65 images from page 1\n",
      "Downloading 14 of 65 images from page 1\n",
      "Downloading 15 of 65 images from page 1\n",
      "Downloading 16 of 65 images from page 1\n",
      "Downloading 17 of 65 images from page 1\n",
      "Downloading 18 of 65 images from page 1\n",
      "Downloading 19 of 65 images from page 1\n",
      "Downloading 20 of 65 images from page 1\n",
      "Downloading 21 of 65 images from page 1\n",
      "Downloading 22 of 65 images from page 1\n",
      "Downloading 23 of 65 images from page 1\n",
      "Downloading 24 of 65 images from page 1\n",
      "Downloading 25 of 65 images from page 1\n",
      "Downloading 26 of 65 images from page 1\n",
      "Downloading 27 of 65 images from page 1\n",
      "Downloading 28 of 65 images from page 1\n",
      "Downloading 29 of 65 images from page 1\n",
      "Downloading 30 of 65 images from page 1\n",
      "Downloading 31 of 65 images from page 1\n",
      "Downloading 32 of 65 images from page 1\n",
      "Downloading 33 of 65 images from page 1\n",
      "Downloading 34 of 65 images from page 1\n",
      "Downloading 35 of 65 images from page 1\n",
      "Downloading 36 of 65 images from page 1\n",
      "Downloading 37 of 65 images from page 1\n",
      "Downloading 38 of 65 images from page 1\n",
      "Downloading 39 of 65 images from page 1\n",
      "Downloading 40 of 65 images from page 1\n",
      "Downloading 41 of 65 images from page 1\n",
      "Downloading 42 of 65 images from page 1\n",
      "Downloading 43 of 65 images from page 1\n",
      "Downloading 44 of 65 images from page 1\n",
      "Downloading 45 of 65 images from page 1\n",
      "Downloading 46 of 65 images from page 1\n",
      "Downloading 47 of 65 images from page 1\n",
      "Downloading 48 of 65 images from page 1\n",
      "Downloading 49 of 65 images from page 1\n",
      "Downloading 50 of 65 images from page 1\n",
      "Downloading 51 of 65 images from page 1\n",
      "Downloading 52 of 65 images from page 1\n",
      "Downloading 53 of 65 images from page 1\n",
      "Downloading 54 of 65 images from page 1\n",
      "Downloading 55 of 65 images from page 1\n",
      "Downloading 56 of 65 images from page 1\n",
      "Downloading 57 of 65 images from page 1\n",
      "Downloading 58 of 65 images from page 1\n",
      "Downloading 59 of 65 images from page 1\n",
      "Downloading 60 of 65 images from page 1\n",
      "Downloading 61 of 65 images from page 1\n",
      "Downloading 62 of 65 images from page 1\n",
      "Downloading 63 of 65 images from page 1\n",
      "Downloading 64 of 65 images from page 1\n",
      "Downloading 65 of 65 images from page 1\n"
     ]
    }
   ],
   "source": [
    "page=1\n",
    "for index, link in enumerate(urls):\n",
    "    print('Downloading {0} of {1} images from page 1'.format(index+1,len(urls)))\n",
    "    response=requests.get(link)\n",
    "    with open('Trousers (men)/img_{0}{1}.jpeg'.format(index,page),'wb') as file:\n",
    "        file.write(response.content)"
   ]
  },
  {
   "cell_type": "code",
   "execution_count": 41,
   "metadata": {},
   "outputs": [],
   "source": [
    "next_page=driver.find_element_by_xpath('//li[@class=\"a-last\"]//a').click()"
   ]
  },
  {
   "cell_type": "code",
   "execution_count": 42,
   "metadata": {},
   "outputs": [],
   "source": [
    "images = driver.find_elements_by_xpath('//img[@class=\"s-image\"]')"
   ]
  },
  {
   "cell_type": "code",
   "execution_count": 43,
   "metadata": {},
   "outputs": [
    {
     "name": "stdout",
     "output_type": "stream",
     "text": [
      "60\n"
     ]
    }
   ],
   "source": [
    "\n",
    "print(len(images))"
   ]
  },
  {
   "cell_type": "code",
   "execution_count": 44,
   "metadata": {},
   "outputs": [
    {
     "name": "stdout",
     "output_type": "stream",
     "text": [
      "https://m.media-amazon.com/images/I/81qlAAs0pDL._AC_UL320_.jpg\n",
      "https://m.media-amazon.com/images/I/51GPPdnaZCL._AC_UL320_.jpg\n",
      "https://m.media-amazon.com/images/I/81zJ1ThxSGL._AC_UL320_.jpg\n",
      "https://m.media-amazon.com/images/I/81aLEvSqU+L._AC_UL320_.jpg\n",
      "https://m.media-amazon.com/images/I/61T6Q6We-nL._AC_UL320_.jpg\n",
      "https://m.media-amazon.com/images/I/71XHgV07eCL._AC_UL320_.jpg\n",
      "https://m.media-amazon.com/images/I/71x+A1PSl-L._AC_UL320_.jpg\n",
      "https://m.media-amazon.com/images/I/71x1vHSFbZL._AC_UL320_.jpg\n",
      "https://m.media-amazon.com/images/I/81bA-0lvT7L._AC_UL320_.jpg\n",
      "https://m.media-amazon.com/images/I/81JXBYkL1wL._AC_UL320_.jpg\n",
      "https://m.media-amazon.com/images/I/814gKF073nL._AC_UL320_.jpg\n",
      "https://m.media-amazon.com/images/I/715T3wP1BIL._AC_UL320_.jpg\n",
      "https://m.media-amazon.com/images/I/81QMWDWSHSL._AC_UL320_.jpg\n",
      "https://m.media-amazon.com/images/I/71lCIxvpakL._AC_UL320_.jpg\n",
      "https://m.media-amazon.com/images/I/81w60TfhsKL._AC_UL320_.jpg\n",
      "https://m.media-amazon.com/images/I/61MsxH2381L._AC_UL320_.jpg\n",
      "https://m.media-amazon.com/images/I/81bSE39nbmL._AC_UL320_.jpg\n",
      "https://m.media-amazon.com/images/I/712zxs-ZWkL._AC_UL320_.jpg\n",
      "https://m.media-amazon.com/images/I/61P+q5a4UpL._AC_UL320_.jpg\n",
      "https://m.media-amazon.com/images/I/71YKnq9iTwL._AC_UL320_.jpg\n",
      "https://m.media-amazon.com/images/I/817db3xoujL._AC_UL320_.jpg\n",
      "https://m.media-amazon.com/images/I/81HiSXuDOwL._AC_UL320_.jpg\n",
      "https://m.media-amazon.com/images/I/810bBm6koOL._AC_UL320_.jpg\n",
      "https://m.media-amazon.com/images/I/81V+cLWewjL._AC_UL320_.jpg\n",
      "https://m.media-amazon.com/images/I/610cdirAp5L._AC_UL320_.jpg\n",
      "https://m.media-amazon.com/images/I/719Q+d+A46L._AC_UL320_.jpg\n",
      "https://m.media-amazon.com/images/I/91Mvq1003YL._AC_UL320_.jpg\n",
      "https://m.media-amazon.com/images/I/811KjK0sgsL._AC_UL320_.jpg\n",
      "https://m.media-amazon.com/images/I/71x1vHSFbZL._AC_UL320_.jpg\n",
      "https://m.media-amazon.com/images/I/91nMMkODq0L._AC_UL320_.jpg\n",
      "https://m.media-amazon.com/images/I/817glWTmXFL._AC_UL320_.jpg\n",
      "https://m.media-amazon.com/images/I/61f9mhnT9PL._AC_UL320_.jpg\n",
      "https://m.media-amazon.com/images/I/81HPb7NE84L._AC_UL320_.jpg\n",
      "https://m.media-amazon.com/images/I/61486Pley3L._AC_UL320_.jpg\n",
      "https://m.media-amazon.com/images/I/71gskzfAs1L._AC_UL320_.jpg\n",
      "https://m.media-amazon.com/images/I/71cwslHPoDL._AC_UL320_.jpg\n",
      "https://m.media-amazon.com/images/I/81P9P2jcPNL._AC_UL320_.jpg\n",
      "https://m.media-amazon.com/images/I/71Ip-NFZ-nL._AC_UL320_.jpg\n",
      "https://m.media-amazon.com/images/I/51xSZ3-etZL._AC_UL320_.jpg\n",
      "https://m.media-amazon.com/images/I/71tUz7Xs68L._AC_UL320_.jpg\n",
      "https://m.media-amazon.com/images/I/61u70QM0EAL._AC_UL320_.jpg\n",
      "https://m.media-amazon.com/images/I/81Zl6Pm6zML._AC_UL320_.jpg\n",
      "https://m.media-amazon.com/images/I/71Pkh1Wy9iL._AC_UL320_.jpg\n",
      "https://m.media-amazon.com/images/I/61RH9HqtU5L._AC_UL320_.jpg\n",
      "https://m.media-amazon.com/images/I/71d30is7+BL._AC_UL320_.jpg\n",
      "https://m.media-amazon.com/images/I/81mgGXWxqlL._AC_UL320_.jpg\n",
      "https://m.media-amazon.com/images/I/81hS25e+O0L._AC_UL320_.jpg\n",
      "https://m.media-amazon.com/images/I/71qQdRU4v6L._AC_UL320_.jpg\n",
      "https://m.media-amazon.com/images/I/81OOTWO6wvL._AC_UL320_.jpg\n",
      "https://m.media-amazon.com/images/I/71RWyH3Pu3L._AC_UL320_.jpg\n",
      "https://m.media-amazon.com/images/I/81Jt6xa-uvL._AC_UL320_.jpg\n",
      "https://m.media-amazon.com/images/I/61xYeYFEOiL._AC_UL320_.jpg\n",
      "https://m.media-amazon.com/images/I/81R6GHm3LAL._AC_UL320_.jpg\n",
      "https://m.media-amazon.com/images/I/71r8-PcQdbL._AC_UL320_.jpg\n",
      "https://m.media-amazon.com/images/I/71bJyw5k58L._AC_UL320_.jpg\n",
      "https://m.media-amazon.com/images/I/71iA2zQdFbL._AC_UL320_.jpg\n",
      "https://m.media-amazon.com/images/I/81j73JbLgeL._AC_UL320_.jpg\n",
      "https://m.media-amazon.com/images/I/812Bn+j5sOL._AC_UL320_.jpg\n",
      "https://m.media-amazon.com/images/I/61RH9HqtU5L._AC_UL320_.jpg\n",
      "https://m.media-amazon.com/images/I/718Fie7xfKL._AC_UL320_.jpg\n"
     ]
    }
   ],
   "source": [
    "urls=[]\n",
    "for image in images:\n",
    "    source=image.get_attribute('src')\n",
    "    urls.append(source)\n",
    "    print(source)"
   ]
  },
  {
   "cell_type": "code",
   "execution_count": 45,
   "metadata": {},
   "outputs": [
    {
     "data": {
      "text/plain": [
       "60"
      ]
     },
     "execution_count": 45,
     "metadata": {},
     "output_type": "execute_result"
    }
   ],
   "source": [
    "len(urls)"
   ]
  },
  {
   "cell_type": "code",
   "execution_count": 46,
   "metadata": {},
   "outputs": [
    {
     "name": "stdout",
     "output_type": "stream",
     "text": [
      "Downloading 1 of 60 images from page 2\n",
      "Downloading 2 of 60 images from page 2\n",
      "Downloading 3 of 60 images from page 2\n",
      "Downloading 4 of 60 images from page 2\n",
      "Downloading 5 of 60 images from page 2\n",
      "Downloading 6 of 60 images from page 2\n",
      "Downloading 7 of 60 images from page 2\n",
      "Downloading 8 of 60 images from page 2\n",
      "Downloading 9 of 60 images from page 2\n",
      "Downloading 10 of 60 images from page 2\n",
      "Downloading 11 of 60 images from page 2\n",
      "Downloading 12 of 60 images from page 2\n",
      "Downloading 13 of 60 images from page 2\n",
      "Downloading 14 of 60 images from page 2\n",
      "Downloading 15 of 60 images from page 2\n",
      "Downloading 16 of 60 images from page 2\n",
      "Downloading 17 of 60 images from page 2\n",
      "Downloading 18 of 60 images from page 2\n",
      "Downloading 19 of 60 images from page 2\n",
      "Downloading 20 of 60 images from page 2\n",
      "Downloading 21 of 60 images from page 2\n",
      "Downloading 22 of 60 images from page 2\n",
      "Downloading 23 of 60 images from page 2\n",
      "Downloading 24 of 60 images from page 2\n",
      "Downloading 25 of 60 images from page 2\n",
      "Downloading 26 of 60 images from page 2\n",
      "Downloading 27 of 60 images from page 2\n",
      "Downloading 28 of 60 images from page 2\n",
      "Downloading 29 of 60 images from page 2\n",
      "Downloading 30 of 60 images from page 2\n",
      "Downloading 31 of 60 images from page 2\n",
      "Downloading 32 of 60 images from page 2\n",
      "Downloading 33 of 60 images from page 2\n",
      "Downloading 34 of 60 images from page 2\n",
      "Downloading 35 of 60 images from page 2\n",
      "Downloading 36 of 60 images from page 2\n",
      "Downloading 37 of 60 images from page 2\n",
      "Downloading 38 of 60 images from page 2\n",
      "Downloading 39 of 60 images from page 2\n",
      "Downloading 40 of 60 images from page 2\n",
      "Downloading 41 of 60 images from page 2\n",
      "Downloading 42 of 60 images from page 2\n",
      "Downloading 43 of 60 images from page 2\n",
      "Downloading 44 of 60 images from page 2\n",
      "Downloading 45 of 60 images from page 2\n",
      "Downloading 46 of 60 images from page 2\n",
      "Downloading 47 of 60 images from page 2\n",
      "Downloading 48 of 60 images from page 2\n",
      "Downloading 49 of 60 images from page 2\n",
      "Downloading 50 of 60 images from page 2\n",
      "Downloading 51 of 60 images from page 2\n",
      "Downloading 52 of 60 images from page 2\n",
      "Downloading 53 of 60 images from page 2\n",
      "Downloading 54 of 60 images from page 2\n",
      "Downloading 55 of 60 images from page 2\n",
      "Downloading 56 of 60 images from page 2\n",
      "Downloading 57 of 60 images from page 2\n",
      "Downloading 58 of 60 images from page 2\n",
      "Downloading 59 of 60 images from page 2\n",
      "Downloading 60 of 60 images from page 2\n"
     ]
    }
   ],
   "source": [
    "#Downloading the images\n",
    "page=2\n",
    "for index, link in enumerate(urls):\n",
    "    print('Downloading {0} of {1} images from page 2'.format(index+1,len(urls)))\n",
    "    response=requests.get(link)\n",
    "    with open('Trousers (men)/img_{0}{1}.jpeg'.format(index,page),'wb') as file:\n",
    "        file.write(response.content)"
   ]
  },
  {
   "cell_type": "code",
   "execution_count": 47,
   "metadata": {},
   "outputs": [],
   "source": [
    "next_page=driver.find_element_by_xpath('//li[@class=\"a-last\"]//a').click()"
   ]
  },
  {
   "cell_type": "code",
   "execution_count": 48,
   "metadata": {},
   "outputs": [],
   "source": [
    "images = driver.find_elements_by_xpath('//img[@class=\"s-image\"]')"
   ]
  },
  {
   "cell_type": "code",
   "execution_count": 49,
   "metadata": {},
   "outputs": [
    {
     "name": "stdout",
     "output_type": "stream",
     "text": [
      "60\n"
     ]
    }
   ],
   "source": [
    "print(len(images))"
   ]
  },
  {
   "cell_type": "code",
   "execution_count": 50,
   "metadata": {},
   "outputs": [
    {
     "name": "stdout",
     "output_type": "stream",
     "text": [
      "https://m.media-amazon.com/images/I/61ELAf0ZLcL._AC_UL320_.jpg\n",
      "https://m.media-amazon.com/images/I/81NACQGeE8L._AC_UL320_.jpg\n",
      "https://m.media-amazon.com/images/I/718Fie7xfKL._AC_UL320_.jpg\n",
      "https://m.media-amazon.com/images/I/817db3xoujL._AC_UL320_.jpg\n",
      "https://m.media-amazon.com/images/I/61xYeYFEOiL._AC_UL320_.jpg\n",
      "https://m.media-amazon.com/images/I/81R6GHm3LAL._AC_UL320_.jpg\n",
      "https://m.media-amazon.com/images/I/71r8-PcQdbL._AC_UL320_.jpg\n",
      "https://m.media-amazon.com/images/I/71bJyw5k58L._AC_UL320_.jpg\n",
      "https://m.media-amazon.com/images/I/71iA2zQdFbL._AC_UL320_.jpg\n",
      "https://m.media-amazon.com/images/I/81dSmXocnGL._AC_UL320_.jpg\n",
      "https://m.media-amazon.com/images/I/71UHoQ2wPzL._AC_UL320_.jpg\n",
      "https://m.media-amazon.com/images/I/81q06V879kL._AC_UL320_.jpg\n",
      "https://m.media-amazon.com/images/I/71NDWLV3MGL._AC_UL320_.jpg\n",
      "https://m.media-amazon.com/images/I/81wYTqHuRRL._AC_UL320_.jpg\n",
      "https://m.media-amazon.com/images/I/71bJyw5k58L._AC_UL320_.jpg\n",
      "https://m.media-amazon.com/images/I/71YEIg3Ch9L._AC_UL320_.jpg\n",
      "https://m.media-amazon.com/images/I/71dl3r5BlVL._AC_UL320_.jpg\n",
      "https://m.media-amazon.com/images/I/715cw-SUjnL._AC_UL320_.jpg\n",
      "https://m.media-amazon.com/images/I/61vpZfFVQAL._AC_UL320_.jpg\n",
      "https://m.media-amazon.com/images/I/81ZpWxDqn5L._AC_UL320_.jpg\n",
      "https://m.media-amazon.com/images/I/71XHgV07eCL._AC_UL320_.jpg\n",
      "https://m.media-amazon.com/images/I/81V+cLWewjL._AC_UL320_.jpg\n",
      "https://m.media-amazon.com/images/I/71RWyH3Pu3L._AC_UL320_.jpg\n",
      "https://m.media-amazon.com/images/I/71zZ1a3RRIL._AC_UL320_.jpg\n",
      "https://m.media-amazon.com/images/I/61Rr+t1kkkL._AC_UL320_.jpg\n",
      "https://m.media-amazon.com/images/I/71dPZsQ82BL._AC_UL320_.jpg\n",
      "https://m.media-amazon.com/images/I/81HbkB98ciL._AC_UL320_.jpg\n",
      "https://m.media-amazon.com/images/I/61vQJspgUXL._AC_UL320_.jpg\n",
      "https://m.media-amazon.com/images/I/91o3Kzc6pBL._AC_UL320_.jpg\n",
      "https://m.media-amazon.com/images/I/81cS-OkJa5L._AC_UL320_.jpg\n",
      "https://m.media-amazon.com/images/I/71zluobY8oL._AC_UL320_.jpg\n",
      "https://m.media-amazon.com/images/I/81UwKKEVb1L._AC_UL320_.jpg\n",
      "https://m.media-amazon.com/images/I/51XnsPC33DL._AC_UL320_.jpg\n",
      "https://m.media-amazon.com/images/I/810hUO7bPfL._AC_UL320_.jpg\n",
      "https://m.media-amazon.com/images/I/7178QcJ9lkL._AC_UL320_.jpg\n",
      "https://m.media-amazon.com/images/I/615VPksV94L._AC_UL320_.jpg\n",
      "https://m.media-amazon.com/images/I/71bUcteV0hL._AC_UL320_.jpg\n",
      "https://m.media-amazon.com/images/I/71KGnSfzxeL._AC_UL320_.jpg\n",
      "https://m.media-amazon.com/images/I/615PSv077dL._AC_UL320_.jpg\n",
      "https://m.media-amazon.com/images/I/71DEYI08q6L._AC_UL320_.jpg\n",
      "https://m.media-amazon.com/images/I/71Lb8WxkNoL._AC_UL320_.jpg\n",
      "https://m.media-amazon.com/images/I/91ZOIu+Ic8L._AC_UL320_.jpg\n",
      "https://m.media-amazon.com/images/I/71QNRjmJf1L._AC_UL320_.jpg\n",
      "https://m.media-amazon.com/images/I/71MH25BnelL._AC_UL320_.jpg\n",
      "https://m.media-amazon.com/images/I/61LcI2qBqpL._AC_UL320_.jpg\n",
      "https://m.media-amazon.com/images/I/612RcT0SKnL._AC_UL320_.jpg\n",
      "https://m.media-amazon.com/images/I/81V-2k-0ysL._AC_UL320_.jpg\n",
      "https://m.media-amazon.com/images/I/81FQky6sMgL._AC_UL320_.jpg\n",
      "https://m.media-amazon.com/images/I/71vgji7enWL._AC_UL320_.jpg\n",
      "https://m.media-amazon.com/images/I/71JjLgUVCML._AC_UL320_.jpg\n",
      "https://m.media-amazon.com/images/I/71vKIKMEjuL._AC_UL320_.jpg\n",
      "https://m.media-amazon.com/images/I/71+aE+vUkUL._AC_UL320_.jpg\n",
      "https://m.media-amazon.com/images/I/71fdjTIihsL._AC_UL320_.jpg\n",
      "https://m.media-amazon.com/images/I/61vS+NMk8kL._AC_UL320_.jpg\n",
      "https://m.media-amazon.com/images/I/81jlLNzuhAL._AC_UL320_.jpg\n",
      "https://m.media-amazon.com/images/I/71PnpesSvDL._AC_UL320_.jpg\n",
      "https://m.media-amazon.com/images/I/81khuawQGFL._AC_UL320_.jpg\n",
      "https://m.media-amazon.com/images/I/71d30is7+BL._AC_UL320_.jpg\n",
      "https://m.media-amazon.com/images/I/71-2N28A52L._AC_UL320_.jpg\n",
      "https://m.media-amazon.com/images/I/71haKlhpIgL._AC_UL320_.jpg\n"
     ]
    }
   ],
   "source": [
    "urls=[]\n",
    "for image in images:\n",
    "    source=image.get_attribute('src')\n",
    "    urls.append(source)\n",
    "    print(source)\n"
   ]
  },
  {
   "cell_type": "code",
   "execution_count": 51,
   "metadata": {},
   "outputs": [
    {
     "data": {
      "text/plain": [
       "60"
      ]
     },
     "execution_count": 51,
     "metadata": {},
     "output_type": "execute_result"
    }
   ],
   "source": [
    "len(urls)"
   ]
  },
  {
   "cell_type": "code",
   "execution_count": 52,
   "metadata": {},
   "outputs": [
    {
     "name": "stdout",
     "output_type": "stream",
     "text": [
      "Downloading 1 of 60 images from page 3\n",
      "Downloading 2 of 60 images from page 3\n",
      "Downloading 3 of 60 images from page 3\n",
      "Downloading 4 of 60 images from page 3\n",
      "Downloading 5 of 60 images from page 3\n",
      "Downloading 6 of 60 images from page 3\n",
      "Downloading 7 of 60 images from page 3\n",
      "Downloading 8 of 60 images from page 3\n",
      "Downloading 9 of 60 images from page 3\n",
      "Downloading 10 of 60 images from page 3\n",
      "Downloading 11 of 60 images from page 3\n",
      "Downloading 12 of 60 images from page 3\n",
      "Downloading 13 of 60 images from page 3\n",
      "Downloading 14 of 60 images from page 3\n",
      "Downloading 15 of 60 images from page 3\n",
      "Downloading 16 of 60 images from page 3\n",
      "Downloading 17 of 60 images from page 3\n",
      "Downloading 18 of 60 images from page 3\n",
      "Downloading 19 of 60 images from page 3\n",
      "Downloading 20 of 60 images from page 3\n",
      "Downloading 21 of 60 images from page 3\n",
      "Downloading 22 of 60 images from page 3\n",
      "Downloading 23 of 60 images from page 3\n",
      "Downloading 24 of 60 images from page 3\n",
      "Downloading 25 of 60 images from page 3\n",
      "Downloading 26 of 60 images from page 3\n",
      "Downloading 27 of 60 images from page 3\n",
      "Downloading 28 of 60 images from page 3\n",
      "Downloading 29 of 60 images from page 3\n",
      "Downloading 30 of 60 images from page 3\n",
      "Downloading 31 of 60 images from page 3\n",
      "Downloading 32 of 60 images from page 3\n",
      "Downloading 33 of 60 images from page 3\n",
      "Downloading 34 of 60 images from page 3\n",
      "Downloading 35 of 60 images from page 3\n",
      "Downloading 36 of 60 images from page 3\n",
      "Downloading 37 of 60 images from page 3\n",
      "Downloading 38 of 60 images from page 3\n",
      "Downloading 39 of 60 images from page 3\n",
      "Downloading 40 of 60 images from page 3\n",
      "Downloading 41 of 60 images from page 3\n",
      "Downloading 42 of 60 images from page 3\n",
      "Downloading 43 of 60 images from page 3\n",
      "Downloading 44 of 60 images from page 3\n",
      "Downloading 45 of 60 images from page 3\n",
      "Downloading 46 of 60 images from page 3\n",
      "Downloading 47 of 60 images from page 3\n",
      "Downloading 48 of 60 images from page 3\n",
      "Downloading 49 of 60 images from page 3\n",
      "Downloading 50 of 60 images from page 3\n",
      "Downloading 51 of 60 images from page 3\n",
      "Downloading 52 of 60 images from page 3\n",
      "Downloading 53 of 60 images from page 3\n",
      "Downloading 54 of 60 images from page 3\n",
      "Downloading 55 of 60 images from page 3\n",
      "Downloading 56 of 60 images from page 3\n",
      "Downloading 57 of 60 images from page 3\n",
      "Downloading 58 of 60 images from page 3\n",
      "Downloading 59 of 60 images from page 3\n",
      "Downloading 60 of 60 images from page 3\n"
     ]
    }
   ],
   "source": [
    "#Downloading the images\n",
    "page=3\n",
    "for index, link in enumerate(urls):\n",
    "    print('Downloading {0} of {1} images from page 3'.format(index+1,len(urls)))\n",
    "    response=requests.get(link)\n",
    "    with open('Trousers (men)/img_{0}{1}.jpeg'.format(index,page),'wb') as file:\n",
    "        file.write(response.content)"
   ]
  },
  {
   "cell_type": "code",
   "execution_count": 53,
   "metadata": {},
   "outputs": [],
   "source": [
    "\n",
    "next_page=driver.find_element_by_xpath('//li[@class=\"a-last\"]//a').click()"
   ]
  },
  {
   "cell_type": "code",
   "execution_count": 54,
   "metadata": {},
   "outputs": [],
   "source": [
    "images = driver.find_elements_by_xpath('//img[@class=\"s-image\"]')"
   ]
  },
  {
   "cell_type": "code",
   "execution_count": 55,
   "metadata": {},
   "outputs": [
    {
     "name": "stdout",
     "output_type": "stream",
     "text": [
      "60\n"
     ]
    }
   ],
   "source": [
    "print(len(images))"
   ]
  },
  {
   "cell_type": "code",
   "execution_count": 56,
   "metadata": {},
   "outputs": [
    {
     "data": {
      "text/plain": [
       "<selenium.webdriver.remote.webelement.WebElement (session=\"a9f35e07b9aa00a26a853caf08139200\", element=\"325aecac-cb36-4a65-9d55-acfdc13458c9\")>"
      ]
     },
     "execution_count": 56,
     "metadata": {},
     "output_type": "execute_result"
    }
   ],
   "source": [
    "images[0]"
   ]
  },
  {
   "cell_type": "code",
   "execution_count": 57,
   "metadata": {},
   "outputs": [
    {
     "name": "stdout",
     "output_type": "stream",
     "text": [
      "https://m.media-amazon.com/images/I/61SxaTcNBmL._AC_UL320_.jpg\n",
      "https://m.media-amazon.com/images/I/71OoqLwAABL._AC_UL320_.jpg\n",
      "https://m.media-amazon.com/images/I/912XN-cW8xL._AC_UL320_.jpg\n",
      "https://m.media-amazon.com/images/I/51fh+BDZ3gL._AC_UL320_.jpg\n",
      "https://m.media-amazon.com/images/I/71vKIKMEjuL._AC_UL320_.jpg\n",
      "https://m.media-amazon.com/images/I/71+aE+vUkUL._AC_UL320_.jpg\n",
      "https://m.media-amazon.com/images/I/71fdjTIihsL._AC_UL320_.jpg\n",
      "https://m.media-amazon.com/images/I/61vS+NMk8kL._AC_UL320_.jpg\n",
      "https://m.media-amazon.com/images/I/81jlLNzuhAL._AC_UL320_.jpg\n",
      "https://m.media-amazon.com/images/I/71PnpesSvDL._AC_UL320_.jpg\n",
      "https://m.media-amazon.com/images/I/71w2CPE6i4L._AC_UL320_.jpg\n",
      "https://m.media-amazon.com/images/I/81ys1OQatDL._AC_UL320_.jpg\n",
      "https://m.media-amazon.com/images/I/71JjLgUVCML._AC_UL320_.jpg\n",
      "https://m.media-amazon.com/images/I/81KdWjt7GZL._AC_UL320_.jpg\n",
      "https://m.media-amazon.com/images/I/81NACQGeE8L._AC_UL320_.jpg\n",
      "https://m.media-amazon.com/images/I/61NZmS-nHbL._AC_UL320_.jpg\n",
      "https://m.media-amazon.com/images/I/71Fbtm9VZ2L._AC_UL320_.jpg\n",
      "https://m.media-amazon.com/images/I/618eMduURAL._AC_UL320_.jpg\n",
      "https://m.media-amazon.com/images/I/61hX+bOFc6L._AC_UL320_.jpg\n",
      "https://m.media-amazon.com/images/I/71esT1WqkLL._AC_UL320_.jpg\n",
      "https://m.media-amazon.com/images/I/51GPPdnaZCL._AC_UL320_.jpg\n",
      "https://m.media-amazon.com/images/I/81OOTWO6wvL._AC_UL320_.jpg\n",
      "https://m.media-amazon.com/images/I/81j73JbLgeL._AC_UL320_.jpg\n",
      "https://m.media-amazon.com/images/I/717OV-2IpCL._AC_UL320_.jpg\n",
      "https://m.media-amazon.com/images/I/71Gg3DtNe+L._AC_UL320_.jpg\n",
      "https://m.media-amazon.com/images/I/81RdnhbcM8L._AC_UL320_.jpg\n",
      "https://m.media-amazon.com/images/I/61-39uCWssL._AC_UL320_.jpg\n",
      "https://m.media-amazon.com/images/I/81uOX5s0rtL._AC_UL320_.jpg\n",
      "https://m.media-amazon.com/images/I/81xYFidvw-L._AC_UL320_.jpg\n",
      "https://m.media-amazon.com/images/I/810bBm6koOL._AC_UL320_.jpg\n",
      "https://m.media-amazon.com/images/I/61RH9HqtU5L._AC_UL320_.jpg\n",
      "https://m.media-amazon.com/images/I/71dPZsQ82BL._AC_UL320_.jpg\n",
      "https://m.media-amazon.com/images/I/61Fj9P8X3dL._AC_UL320_.jpg\n",
      "https://m.media-amazon.com/images/I/71yWHPebkLL._AC_UL320_.jpg\n",
      "https://m.media-amazon.com/images/I/71W9QT2kcbL._AC_UL320_.jpg\n",
      "https://m.media-amazon.com/images/I/718Dc6cbnjL._AC_UL320_.jpg\n",
      "https://m.media-amazon.com/images/I/71tNxiDoFlL._AC_UL320_.jpg\n",
      "https://m.media-amazon.com/images/I/91BDagJjuSL._AC_UL320_.jpg\n",
      "https://m.media-amazon.com/images/I/71c5JdsIrNL._AC_UL320_.jpg\n",
      "https://m.media-amazon.com/images/I/5143BT-Us5L._AC_UL320_.jpg\n",
      "https://m.media-amazon.com/images/I/61oaPYz08nL._AC_UL320_.jpg\n",
      "https://m.media-amazon.com/images/I/71+WPQKc0aL._AC_UL320_.jpg\n",
      "https://m.media-amazon.com/images/I/71lwb7An8bL._AC_UL320_.jpg\n",
      "https://m.media-amazon.com/images/I/71DDFopoABL._AC_UL320_.jpg\n",
      "https://m.media-amazon.com/images/I/71GoeY4VzEL._AC_UL320_.jpg\n",
      "https://m.media-amazon.com/images/I/71mZB9xhRxL._AC_UL320_.jpg\n",
      "https://m.media-amazon.com/images/I/51J1w7PTQfL._AC_UL320_.jpg\n",
      "https://m.media-amazon.com/images/I/81+ueXe-ooL._AC_UL320_.jpg\n",
      "https://m.media-amazon.com/images/I/81IE6yd7eIL._AC_UL320_.jpg\n",
      "https://m.media-amazon.com/images/I/71BsFTxR06L._AC_UL320_.jpg\n",
      "https://m.media-amazon.com/images/I/81dd+2Dd0EL._AC_UL320_.jpg\n",
      "https://m.media-amazon.com/images/I/91Zr0fawriL._AC_UL320_.jpg\n",
      "https://m.media-amazon.com/images/I/71yO7UhHVXL._AC_UL320_.jpg\n",
      "https://m.media-amazon.com/images/I/71L0wJGnHML._AC_UL320_.jpg\n",
      "https://m.media-amazon.com/images/I/81HiSXuDOwL._AC_UL320_.jpg\n",
      "https://m.media-amazon.com/images/I/51YSfVPmSNL._AC_UL320_.jpg\n",
      "https://m.media-amazon.com/images/I/61RH9HqtU5L._AC_UL320_.jpg\n",
      "https://m.media-amazon.com/images/I/61gTZneQWZL._AC_UL320_.jpg\n",
      "https://m.media-amazon.com/images/I/81tjGx28cqL._AC_UL320_.jpg\n",
      "https://m.media-amazon.com/images/I/81aKPu-Gl-L._AC_UL320_.jpg\n"
     ]
    }
   ],
   "source": [
    "urls=[]\n",
    "for image in images:\n",
    "    source=image.get_attribute('src')\n",
    "    urls.append(source)\n",
    "    print(source)"
   ]
  },
  {
   "cell_type": "code",
   "execution_count": 58,
   "metadata": {},
   "outputs": [
    {
     "data": {
      "text/plain": [
       "60"
      ]
     },
     "execution_count": 58,
     "metadata": {},
     "output_type": "execute_result"
    }
   ],
   "source": [
    "\n",
    "len(urls)"
   ]
  },
  {
   "cell_type": "code",
   "execution_count": 59,
   "metadata": {},
   "outputs": [
    {
     "name": "stdout",
     "output_type": "stream",
     "text": [
      "Downloading 1 of 60 images from page 4\n",
      "Downloading 2 of 60 images from page 4\n",
      "Downloading 3 of 60 images from page 4\n",
      "Downloading 4 of 60 images from page 4\n",
      "Downloading 5 of 60 images from page 4\n",
      "Downloading 6 of 60 images from page 4\n",
      "Downloading 7 of 60 images from page 4\n",
      "Downloading 8 of 60 images from page 4\n",
      "Downloading 9 of 60 images from page 4\n",
      "Downloading 10 of 60 images from page 4\n",
      "Downloading 11 of 60 images from page 4\n",
      "Downloading 12 of 60 images from page 4\n",
      "Downloading 13 of 60 images from page 4\n",
      "Downloading 14 of 60 images from page 4\n",
      "Downloading 15 of 60 images from page 4\n",
      "Downloading 16 of 60 images from page 4\n",
      "Downloading 17 of 60 images from page 4\n",
      "Downloading 18 of 60 images from page 4\n",
      "Downloading 19 of 60 images from page 4\n",
      "Downloading 20 of 60 images from page 4\n",
      "Downloading 21 of 60 images from page 4\n",
      "Downloading 22 of 60 images from page 4\n",
      "Downloading 23 of 60 images from page 4\n",
      "Downloading 24 of 60 images from page 4\n",
      "Downloading 25 of 60 images from page 4\n",
      "Downloading 26 of 60 images from page 4\n",
      "Downloading 27 of 60 images from page 4\n",
      "Downloading 28 of 60 images from page 4\n",
      "Downloading 29 of 60 images from page 4\n",
      "Downloading 30 of 60 images from page 4\n",
      "Downloading 31 of 60 images from page 4\n",
      "Downloading 32 of 60 images from page 4\n",
      "Downloading 33 of 60 images from page 4\n",
      "Downloading 34 of 60 images from page 4\n",
      "Downloading 35 of 60 images from page 4\n",
      "Downloading 36 of 60 images from page 4\n",
      "Downloading 37 of 60 images from page 4\n",
      "Downloading 38 of 60 images from page 4\n",
      "Downloading 39 of 60 images from page 4\n",
      "Downloading 40 of 60 images from page 4\n",
      "Downloading 41 of 60 images from page 4\n",
      "Downloading 42 of 60 images from page 4\n",
      "Downloading 43 of 60 images from page 4\n",
      "Downloading 44 of 60 images from page 4\n",
      "Downloading 45 of 60 images from page 4\n",
      "Downloading 46 of 60 images from page 4\n",
      "Downloading 47 of 60 images from page 4\n",
      "Downloading 48 of 60 images from page 4\n",
      "Downloading 49 of 60 images from page 4\n",
      "Downloading 50 of 60 images from page 4\n",
      "Downloading 51 of 60 images from page 4\n",
      "Downloading 52 of 60 images from page 4\n",
      "Downloading 53 of 60 images from page 4\n",
      "Downloading 54 of 60 images from page 4\n",
      "Downloading 55 of 60 images from page 4\n",
      "Downloading 56 of 60 images from page 4\n",
      "Downloading 57 of 60 images from page 4\n",
      "Downloading 58 of 60 images from page 4\n",
      "Downloading 59 of 60 images from page 4\n",
      "Downloading 60 of 60 images from page 4\n"
     ]
    }
   ],
   "source": [
    "#Downloading the images\n",
    "page=4\n",
    "for index, link in enumerate(urls):\n",
    "    print('Downloading {0} of {1} images from page 4'.format(index+1,len(urls)))\n",
    "    response=requests.get(link)\n",
    "    with open('Trousers (men)/img_{0}{1}.jpeg'.format(index,page),'wb') as file:\n",
    "        file.write(response.content)\n"
   ]
  },
  {
   "cell_type": "markdown",
   "metadata": {},
   "source": [
    "# Jeans (men)"
   ]
  },
  {
   "cell_type": "code",
   "execution_count": 60,
   "metadata": {},
   "outputs": [],
   "source": [
    "url = driver.get(\"https://www.amazon.in/s?k=jeans+men&crid=716T83WXYRKI&sprefix=jeans+%2Caps%2C322&ref=nb_sb_ss_ts-doa-p_6_6\")"
   ]
  },
  {
   "cell_type": "code",
   "execution_count": 61,
   "metadata": {},
   "outputs": [],
   "source": [
    "def make_directory(dirname):\n",
    "    current_path=os.getcwd()\n",
    "    path=os.path.join(current_path,dirname)\n",
    "    if not os.path.exists(path):\n",
    "        os.makedirs(path)"
   ]
  },
  {
   "cell_type": "code",
   "execution_count": 62,
   "metadata": {},
   "outputs": [],
   "source": [
    "make_directory('Jeans (men)')"
   ]
  },
  {
   "cell_type": "code",
   "execution_count": 63,
   "metadata": {},
   "outputs": [],
   "source": [
    "images = driver.find_elements_by_xpath('//img[@class=\"s-image\"]')"
   ]
  },
  {
   "cell_type": "code",
   "execution_count": 64,
   "metadata": {},
   "outputs": [
    {
     "name": "stdout",
     "output_type": "stream",
     "text": [
      "65\n"
     ]
    }
   ],
   "source": [
    "print(len(images))"
   ]
  },
  {
   "cell_type": "code",
   "execution_count": 65,
   "metadata": {},
   "outputs": [
    {
     "data": {
      "text/plain": [
       "<selenium.webdriver.remote.webelement.WebElement (session=\"a9f35e07b9aa00a26a853caf08139200\", element=\"081e0592-4610-48dd-aea1-cc26b252b962\")>"
      ]
     },
     "execution_count": 65,
     "metadata": {},
     "output_type": "execute_result"
    }
   ],
   "source": [
    "images[0]"
   ]
  },
  {
   "cell_type": "code",
   "execution_count": 66,
   "metadata": {},
   "outputs": [
    {
     "name": "stdout",
     "output_type": "stream",
     "text": [
      "https://m.media-amazon.com/images/I/81wlV6lWAYL._AC_UL320_.jpg\n",
      "https://m.media-amazon.com/images/I/81HXc8DEFNL._AC_UL320_.jpg\n",
      "https://m.media-amazon.com/images/I/81BppWS2XzL._AC_UL320_.jpg\n",
      "https://m.media-amazon.com/images/I/81ZVm7gJ8PL._AC_UL320_.jpg\n",
      "https://m.media-amazon.com/images/I/616xchp1ECL._AC_UL320_.jpg\n",
      "https://m.media-amazon.com/images/I/31tq5os9BvS._AC_UL320_.jpg\n",
      "https://m.media-amazon.com/images/I/61Don-d8JfL._AC_UL320_.jpg\n",
      "https://m.media-amazon.com/images/I/81rcMJm4kFL._AC_UL320_.jpg\n",
      "https://m.media-amazon.com/images/I/81GBmGXXdCL._AC_UL320_.jpg\n",
      "https://m.media-amazon.com/images/I/81MLDfd2gRL._AC_UL320_.jpg\n",
      "https://m.media-amazon.com/images/I/81ixDFVkIWL._AC_UL320_.jpg\n",
      "https://m.media-amazon.com/images/I/81JCOxXzXOL._AC_UL320_.jpg\n",
      "https://m.media-amazon.com/images/I/51PAjY776nL._AC_UL320_.jpg\n",
      "https://m.media-amazon.com/images/I/81KpWMZ1LyL._AC_UL320_.jpg\n",
      "https://m.media-amazon.com/images/I/818j+tFoEYL._AC_UL320_.jpg\n",
      "https://m.media-amazon.com/images/I/71NRVDhXnoL._AC_UL320_.jpg\n",
      "https://m.media-amazon.com/images/I/81y1NfcKymL._AC_UL320_.jpg\n",
      "https://m.media-amazon.com/images/I/81mBDYNTTbL._AC_UL320_.jpg\n",
      "https://m.media-amazon.com/images/I/81lWpYVz9XL._AC_UL320_.jpg\n",
      "https://m.media-amazon.com/images/I/A1o0hSEIYlL._AC_UL320_.jpg\n",
      "https://m.media-amazon.com/images/I/81-Lt+FQcCL._AC_UL320_.jpg\n",
      "https://m.media-amazon.com/images/I/61HBtXKvYOL._AC_UL320_.jpg\n",
      "https://m.media-amazon.com/images/I/61TwfPRLhrL._AC_UL320_.jpg\n",
      "https://m.media-amazon.com/images/I/A1lVQ7qBgQL._AC_UL320_.jpg\n",
      "https://m.media-amazon.com/images/I/91SohHoLY9L._AC_UL320_.jpg\n",
      "https://m.media-amazon.com/images/I/61jGdpmuvnL._AC_UL320_.jpg\n",
      "https://m.media-amazon.com/images/I/81ubhsO1EYL._AC_UL320_.jpg\n",
      "https://m.media-amazon.com/images/I/91LsGA4-jhL._AC_UL320_.jpg\n",
      "https://m.media-amazon.com/images/I/61TQL4zAGZL._AC_UL320_.jpg\n",
      "https://m.media-amazon.com/images/I/81zeWxMOGQL._AC_UL320_.jpg\n",
      "https://m.media-amazon.com/images/I/91ZnwvtvJiL._AC_UL320_.jpg\n",
      "https://m.media-amazon.com/images/I/51UlwkHPtmL._AC_UL320_.jpg\n",
      "https://m.media-amazon.com/images/I/61xg9CpjNjL._AC_UL320_.jpg\n",
      "https://m.media-amazon.com/images/I/81p1YxGV4wL._AC_UL320_.jpg\n",
      "https://m.media-amazon.com/images/I/A1YVX4DaQ3L._AC_UL320_.jpg\n",
      "https://m.media-amazon.com/images/I/91LzMsw-XhL._AC_UL320_.jpg\n",
      "https://m.media-amazon.com/images/I/A1Eipm0m2wL._AC_UL320_.jpg\n",
      "https://m.media-amazon.com/images/I/61ZGXTSfA3L._AC_UL320_.jpg\n",
      "https://m.media-amazon.com/images/I/61PJp-UGw8L._AC_UL320_.jpg\n",
      "https://m.media-amazon.com/images/I/41s4My+nEDL._AC_UL320_.jpg\n",
      "https://m.media-amazon.com/images/I/618r4PBS73L._AC_UL320_.jpg\n",
      "https://m.media-amazon.com/images/I/71ft0likY8L._AC_UL320_.jpg\n",
      "https://m.media-amazon.com/images/I/61+ymeZjHJL._AC_UL320_.jpg\n",
      "https://m.media-amazon.com/images/I/914A6I+VqEL._AC_UL320_.jpg\n",
      "https://m.media-amazon.com/images/I/91FvgyU8iuL._AC_UL320_.jpg\n",
      "https://m.media-amazon.com/images/I/31p4fGaaEaL._AC_UL320_.jpg\n",
      "https://m.media-amazon.com/images/I/918qZr8zhcL._AC_UL320_.jpg\n",
      "https://m.media-amazon.com/images/I/91HA7QrsCcL._AC_UL320_.jpg\n",
      "https://m.media-amazon.com/images/I/71m0W58-zQL._AC_UL320_.jpg\n",
      "https://m.media-amazon.com/images/I/71yiM4nauKL._AC_UL320_.jpg\n",
      "https://m.media-amazon.com/images/I/714EXTMcpuL._AC_UL320_.jpg\n",
      "https://m.media-amazon.com/images/I/61S5a0LL0sL._AC_UL320_.jpg\n",
      "https://m.media-amazon.com/images/I/81dZM83SCcL._AC_UL320_.jpg\n",
      "https://m.media-amazon.com/images/I/611hFiiUv4L._AC_UL320_.jpg\n",
      "https://m.media-amazon.com/images/I/61+e1RZI11L._AC_UL320_.jpg\n",
      "https://m.media-amazon.com/images/I/71GC22P4ATL._AC_UL320_.jpg\n",
      "https://m.media-amazon.com/images/I/31Oke5cdB+L._AC_UL320_.jpg\n",
      "https://m.media-amazon.com/images/I/810Ks72Az1L._AC_UL320_.jpg\n",
      "https://m.media-amazon.com/images/I/61nJ6tJX0VL._AC_UL320_.jpg\n",
      "https://m.media-amazon.com/images/I/A1wYnMNDs+L._AC_UL320_.jpg\n",
      "https://m.media-amazon.com/images/I/91rLipc39nL._AC_UL320_.jpg\n",
      "https://m.media-amazon.com/images/I/81bZazZ+QoL._AC_UL320_.jpg\n",
      "https://m.media-amazon.com/images/I/81J2xIgSRjL._AC_UL320_.jpg\n",
      "https://m.media-amazon.com/images/I/81jjk6l3NSL._AC_UL320_.jpg\n",
      "https://m.media-amazon.com/images/I/81-JPbHsyML._AC_UL320_.jpg\n"
     ]
    }
   ],
   "source": [
    "urls=[]\n",
    "for image in images:\n",
    "    source=image.get_attribute('src')\n",
    "    urls.append(source)\n",
    "    print(source)"
   ]
  },
  {
   "cell_type": "code",
   "execution_count": 67,
   "metadata": {},
   "outputs": [
    {
     "data": {
      "text/plain": [
       "65"
      ]
     },
     "execution_count": 67,
     "metadata": {},
     "output_type": "execute_result"
    }
   ],
   "source": [
    "len(urls)"
   ]
  },
  {
   "cell_type": "code",
   "execution_count": 68,
   "metadata": {},
   "outputs": [
    {
     "name": "stdout",
     "output_type": "stream",
     "text": [
      "Downloading 1 of 65 images from page 1\n",
      "Downloading 2 of 65 images from page 1\n",
      "Downloading 3 of 65 images from page 1\n",
      "Downloading 4 of 65 images from page 1\n",
      "Downloading 5 of 65 images from page 1\n",
      "Downloading 6 of 65 images from page 1\n",
      "Downloading 7 of 65 images from page 1\n",
      "Downloading 8 of 65 images from page 1\n",
      "Downloading 9 of 65 images from page 1\n",
      "Downloading 10 of 65 images from page 1\n",
      "Downloading 11 of 65 images from page 1\n",
      "Downloading 12 of 65 images from page 1\n",
      "Downloading 13 of 65 images from page 1\n",
      "Downloading 14 of 65 images from page 1\n",
      "Downloading 15 of 65 images from page 1\n",
      "Downloading 16 of 65 images from page 1\n",
      "Downloading 17 of 65 images from page 1\n",
      "Downloading 18 of 65 images from page 1\n",
      "Downloading 19 of 65 images from page 1\n",
      "Downloading 20 of 65 images from page 1\n",
      "Downloading 21 of 65 images from page 1\n",
      "Downloading 22 of 65 images from page 1\n",
      "Downloading 23 of 65 images from page 1\n",
      "Downloading 24 of 65 images from page 1\n",
      "Downloading 25 of 65 images from page 1\n",
      "Downloading 26 of 65 images from page 1\n",
      "Downloading 27 of 65 images from page 1\n",
      "Downloading 28 of 65 images from page 1\n",
      "Downloading 29 of 65 images from page 1\n",
      "Downloading 30 of 65 images from page 1\n",
      "Downloading 31 of 65 images from page 1\n",
      "Downloading 32 of 65 images from page 1\n",
      "Downloading 33 of 65 images from page 1\n",
      "Downloading 34 of 65 images from page 1\n",
      "Downloading 35 of 65 images from page 1\n",
      "Downloading 36 of 65 images from page 1\n",
      "Downloading 37 of 65 images from page 1\n",
      "Downloading 38 of 65 images from page 1\n",
      "Downloading 39 of 65 images from page 1\n",
      "Downloading 40 of 65 images from page 1\n",
      "Downloading 41 of 65 images from page 1\n",
      "Downloading 42 of 65 images from page 1\n",
      "Downloading 43 of 65 images from page 1\n",
      "Downloading 44 of 65 images from page 1\n",
      "Downloading 45 of 65 images from page 1\n",
      "Downloading 46 of 65 images from page 1\n",
      "Downloading 47 of 65 images from page 1\n",
      "Downloading 48 of 65 images from page 1\n",
      "Downloading 49 of 65 images from page 1\n",
      "Downloading 50 of 65 images from page 1\n",
      "Downloading 51 of 65 images from page 1\n",
      "Downloading 52 of 65 images from page 1\n",
      "Downloading 53 of 65 images from page 1\n",
      "Downloading 54 of 65 images from page 1\n",
      "Downloading 55 of 65 images from page 1\n",
      "Downloading 56 of 65 images from page 1\n",
      "Downloading 57 of 65 images from page 1\n",
      "Downloading 58 of 65 images from page 1\n",
      "Downloading 59 of 65 images from page 1\n",
      "Downloading 60 of 65 images from page 1\n",
      "Downloading 61 of 65 images from page 1\n",
      "Downloading 62 of 65 images from page 1\n",
      "Downloading 63 of 65 images from page 1\n",
      "Downloading 64 of 65 images from page 1\n",
      "Downloading 65 of 65 images from page 1\n"
     ]
    }
   ],
   "source": [
    "page=1\n",
    "for index, link in enumerate(urls):\n",
    "    print('Downloading {0} of {1} images from page 1'.format(index+1,len(urls)))\n",
    "    response=requests.get(link)\n",
    "    with open('Jeans (men)/img_{0}{1}.jpeg'.format(index,page),'wb') as file:\n",
    "        file.write(response.content)"
   ]
  },
  {
   "cell_type": "code",
   "execution_count": 69,
   "metadata": {},
   "outputs": [],
   "source": [
    "next_page=driver.find_element_by_xpath('//li[@class=\"a-last\"]//a').click()"
   ]
  },
  {
   "cell_type": "code",
   "execution_count": 70,
   "metadata": {},
   "outputs": [],
   "source": [
    "images = driver.find_elements_by_xpath('//img[@class=\"s-image\"]')"
   ]
  },
  {
   "cell_type": "code",
   "execution_count": 71,
   "metadata": {},
   "outputs": [
    {
     "name": "stdout",
     "output_type": "stream",
     "text": [
      "60\n"
     ]
    }
   ],
   "source": [
    "print(len(images))"
   ]
  },
  {
   "cell_type": "code",
   "execution_count": 72,
   "metadata": {},
   "outputs": [
    {
     "data": {
      "text/plain": [
       "<selenium.webdriver.remote.webelement.WebElement (session=\"a9f35e07b9aa00a26a853caf08139200\", element=\"441bf45b-18cc-4d48-9313-7e1fe2c0f1d2\")>"
      ]
     },
     "execution_count": 72,
     "metadata": {},
     "output_type": "execute_result"
    }
   ],
   "source": [
    "images[5]"
   ]
  },
  {
   "cell_type": "code",
   "execution_count": 73,
   "metadata": {},
   "outputs": [
    {
     "name": "stdout",
     "output_type": "stream",
     "text": [
      "https://m.media-amazon.com/images/I/81wlV6lWAYL._AC_UL320_.jpg\n",
      "https://m.media-amazon.com/images/I/81dAvxOxzlL._AC_UL320_.jpg\n",
      "https://m.media-amazon.com/images/I/91LsGA4-jhL._AC_UL320_.jpg\n",
      "https://m.media-amazon.com/images/I/61Tb-wMh6kL._AC_UL320_.jpg\n",
      "https://m.media-amazon.com/images/I/71tofDe1MZL._AC_UL320_.jpg\n",
      "https://m.media-amazon.com/images/I/51NTO1DvzcL._AC_UL320_.jpg\n",
      "https://m.media-amazon.com/images/I/81VrEnN6nSL._AC_UL320_.jpg\n",
      "https://m.media-amazon.com/images/I/61UZtv8GRtL._AC_UL320_.jpg\n",
      "https://m.media-amazon.com/images/I/81hRMrV2fAL._AC_UL320_.jpg\n",
      "https://m.media-amazon.com/images/I/91VKNWAEpLL._AC_UL320_.jpg\n",
      "https://m.media-amazon.com/images/I/61ZGXTSfA3L._AC_UL320_.jpg\n",
      "https://m.media-amazon.com/images/I/611Uj4IofCL._AC_UL320_.jpg\n",
      "https://m.media-amazon.com/images/I/81wlV6lWAYL._AC_UL320_.jpg\n",
      "https://m.media-amazon.com/images/I/81wq4UHtW7L._AC_UL320_.jpg\n",
      "https://m.media-amazon.com/images/I/71YV0wBJ-TL._AC_UL320_.jpg\n",
      "https://m.media-amazon.com/images/I/81JZoRiRnaL._AC_UL320_.jpg\n",
      "https://m.media-amazon.com/images/I/81-UZlN-3QL._AC_UL320_.jpg\n",
      "https://m.media-amazon.com/images/I/71IB5fDs4GL._AC_UL320_.jpg\n",
      "https://m.media-amazon.com/images/I/91mXH+SEo7L._AC_UL320_.jpg\n",
      "https://m.media-amazon.com/images/I/81FQCvX3sPL._AC_UL320_.jpg\n",
      "https://m.media-amazon.com/images/I/81HPJLtSD7L._AC_UL320_.jpg\n",
      "https://m.media-amazon.com/images/I/81cL2W+9crL._AC_UL320_.jpg\n",
      "https://m.media-amazon.com/images/I/71A6quMwyzL._AC_UL320_.jpg\n",
      "https://m.media-amazon.com/images/I/A1bhbchloLL._AC_UL320_.jpg\n",
      "https://m.media-amazon.com/images/I/81mB943flLL._AC_UL320_.jpg\n",
      "https://m.media-amazon.com/images/I/A1yTydtSOYL._AC_UL320_.jpg\n",
      "https://m.media-amazon.com/images/I/81ZJ4w2tPlL._AC_UL320_.jpg\n",
      "https://m.media-amazon.com/images/I/61z9M+39pxL._AC_UL320_.jpg\n",
      "https://m.media-amazon.com/images/I/81AuNlhWD1L._AC_UL320_.jpg\n",
      "https://m.media-amazon.com/images/I/81sFZYnJHqL._AC_UL320_.jpg\n",
      "https://m.media-amazon.com/images/I/81rFu7xTXSL._AC_UL320_.jpg\n",
      "https://m.media-amazon.com/images/I/61-AkY+dx1L._AC_UL320_.jpg\n",
      "https://m.media-amazon.com/images/I/61lUfjjkXoL._AC_UL320_.jpg\n",
      "https://m.media-amazon.com/images/I/613aUOVUTyL._AC_UL320_.jpg\n",
      "https://m.media-amazon.com/images/I/81B0wKv0xtL._AC_UL320_.jpg\n",
      "https://m.media-amazon.com/images/I/61Gvg7wkexL._AC_UL320_.jpg\n",
      "https://m.media-amazon.com/images/I/51GlqkomsvL._AC_UL320_.jpg\n",
      "https://m.media-amazon.com/images/I/811jajeMo6L._AC_UL320_.jpg\n",
      "https://m.media-amazon.com/images/I/51Gvco2ivdL._AC_UL320_.jpg\n",
      "https://m.media-amazon.com/images/I/61-D7SA4PRL._AC_UL320_.jpg\n",
      "https://m.media-amazon.com/images/I/81ZVm7gJ8PL._AC_UL320_.jpg\n",
      "https://m.media-amazon.com/images/I/81W4yT7j+7L._AC_UL320_.jpg\n",
      "https://m.media-amazon.com/images/I/61YB0H8a3gL._AC_UL320_.jpg\n",
      "https://m.media-amazon.com/images/I/91QWDIZX58L._AC_UL320_.jpg\n",
      "https://m.media-amazon.com/images/I/81QyQD9FSNL._AC_UL320_.jpg\n",
      "https://m.media-amazon.com/images/I/61+wT3sYB7L._AC_UL320_.jpg\n",
      "https://m.media-amazon.com/images/I/81FAVQQv-XL._AC_UL320_.jpg\n",
      "https://m.media-amazon.com/images/I/61GULQi3cXL._AC_UL320_.jpg\n",
      "https://m.media-amazon.com/images/I/61Sx3-7UmsL._AC_UL320_.jpg\n",
      "https://m.media-amazon.com/images/I/81CfjIf+7pL._AC_UL320_.jpg\n",
      "https://m.media-amazon.com/images/I/819JnUcr+qL._AC_UL320_.jpg\n",
      "https://m.media-amazon.com/images/I/51Qau-LLhuL._AC_UL320_.jpg\n",
      "https://m.media-amazon.com/images/I/71ISaNLPAHL._AC_UL320_.jpg\n",
      "https://m.media-amazon.com/images/I/81DczXdxEWL._AC_UL320_.jpg\n",
      "https://m.media-amazon.com/images/I/61Gvg7wkexL._AC_UL320_.jpg\n",
      "https://m.media-amazon.com/images/I/81iVGc6GulL._AC_UL320_.jpg\n",
      "https://m.media-amazon.com/images/I/61MlVtgagaL._AC_UL320_.jpg\n",
      "https://m.media-amazon.com/images/I/810V2h6AOhL._AC_UL320_.jpg\n",
      "https://m.media-amazon.com/images/I/81dzL9qrKlL._AC_UL320_.jpg\n",
      "https://m.media-amazon.com/images/I/81bZazZ+QoL._AC_UL320_.jpg\n"
     ]
    }
   ],
   "source": [
    "urls=[]\n",
    "for image in images:\n",
    "    source=image.get_attribute('src')\n",
    "    urls.append(source)\n",
    "    print(source)"
   ]
  },
  {
   "cell_type": "code",
   "execution_count": 74,
   "metadata": {},
   "outputs": [
    {
     "name": "stdout",
     "output_type": "stream",
     "text": [
      "Downloading 1 of 60 images from page 2\n",
      "Downloading 2 of 60 images from page 2\n",
      "Downloading 3 of 60 images from page 2\n",
      "Downloading 4 of 60 images from page 2\n",
      "Downloading 5 of 60 images from page 2\n",
      "Downloading 6 of 60 images from page 2\n",
      "Downloading 7 of 60 images from page 2\n",
      "Downloading 8 of 60 images from page 2\n",
      "Downloading 9 of 60 images from page 2\n",
      "Downloading 10 of 60 images from page 2\n",
      "Downloading 11 of 60 images from page 2\n",
      "Downloading 12 of 60 images from page 2\n",
      "Downloading 13 of 60 images from page 2\n",
      "Downloading 14 of 60 images from page 2\n",
      "Downloading 15 of 60 images from page 2\n",
      "Downloading 16 of 60 images from page 2\n",
      "Downloading 17 of 60 images from page 2\n",
      "Downloading 18 of 60 images from page 2\n",
      "Downloading 19 of 60 images from page 2\n",
      "Downloading 20 of 60 images from page 2\n",
      "Downloading 21 of 60 images from page 2\n",
      "Downloading 22 of 60 images from page 2\n",
      "Downloading 23 of 60 images from page 2\n",
      "Downloading 24 of 60 images from page 2\n",
      "Downloading 25 of 60 images from page 2\n",
      "Downloading 26 of 60 images from page 2\n",
      "Downloading 27 of 60 images from page 2\n",
      "Downloading 28 of 60 images from page 2\n",
      "Downloading 29 of 60 images from page 2\n",
      "Downloading 30 of 60 images from page 2\n",
      "Downloading 31 of 60 images from page 2\n",
      "Downloading 32 of 60 images from page 2\n",
      "Downloading 33 of 60 images from page 2\n",
      "Downloading 34 of 60 images from page 2\n",
      "Downloading 35 of 60 images from page 2\n",
      "Downloading 36 of 60 images from page 2\n",
      "Downloading 37 of 60 images from page 2\n",
      "Downloading 38 of 60 images from page 2\n",
      "Downloading 39 of 60 images from page 2\n",
      "Downloading 40 of 60 images from page 2\n",
      "Downloading 41 of 60 images from page 2\n",
      "Downloading 42 of 60 images from page 2\n",
      "Downloading 43 of 60 images from page 2\n",
      "Downloading 44 of 60 images from page 2\n",
      "Downloading 45 of 60 images from page 2\n",
      "Downloading 46 of 60 images from page 2\n",
      "Downloading 47 of 60 images from page 2\n",
      "Downloading 48 of 60 images from page 2\n",
      "Downloading 49 of 60 images from page 2\n",
      "Downloading 50 of 60 images from page 2\n",
      "Downloading 51 of 60 images from page 2\n",
      "Downloading 52 of 60 images from page 2\n",
      "Downloading 53 of 60 images from page 2\n",
      "Downloading 54 of 60 images from page 2\n",
      "Downloading 55 of 60 images from page 2\n",
      "Downloading 56 of 60 images from page 2\n",
      "Downloading 57 of 60 images from page 2\n",
      "Downloading 58 of 60 images from page 2\n",
      "Downloading 59 of 60 images from page 2\n",
      "Downloading 60 of 60 images from page 2\n"
     ]
    }
   ],
   "source": [
    "page=2\n",
    "for index, link in enumerate(urls):\n",
    "    print('Downloading {0} of {1} images from page 2'.format(index+1,len(urls)))\n",
    "    response=requests.get(link)\n",
    "    with open('Jeans (men)/img_{0}{1}.jpeg'.format(index,page),'wb') as file:\n",
    "        file.write(response.content)"
   ]
  },
  {
   "cell_type": "code",
   "execution_count": 75,
   "metadata": {},
   "outputs": [],
   "source": [
    "next_page=driver.find_element_by_xpath('//li[@class=\"a-last\"]//a').click()"
   ]
  },
  {
   "cell_type": "code",
   "execution_count": 76,
   "metadata": {},
   "outputs": [],
   "source": [
    "images = driver.find_elements_by_xpath('//img[@class=\"s-image\"]')"
   ]
  },
  {
   "cell_type": "code",
   "execution_count": 77,
   "metadata": {},
   "outputs": [
    {
     "name": "stdout",
     "output_type": "stream",
     "text": [
      "60\n"
     ]
    }
   ],
   "source": [
    "print(len(images))"
   ]
  },
  {
   "cell_type": "code",
   "execution_count": 78,
   "metadata": {},
   "outputs": [
    {
     "name": "stdout",
     "output_type": "stream",
     "text": [
      "https://m.media-amazon.com/images/I/91LsGA4-jhL._AC_UL320_.jpg\n",
      "https://m.media-amazon.com/images/I/81+wlwY-1zL._AC_UL320_.jpg\n",
      "https://m.media-amazon.com/images/I/81cuyeKsmgL._AC_UL320_.jpg\n",
      "https://m.media-amazon.com/images/I/61Tb-wMh6kL._AC_UL320_.jpg\n",
      "https://m.media-amazon.com/images/I/81iVGc6GulL._AC_UL320_.jpg\n",
      "https://m.media-amazon.com/images/I/71yrEovAM0L._AC_UL320_.jpg\n",
      "https://m.media-amazon.com/images/I/61mX+jzOX5S._AC_UL320_.jpg\n",
      "https://m.media-amazon.com/images/I/A1xDnqr+nUL._AC_UL320_.jpg\n",
      "https://m.media-amazon.com/images/I/81MP30nDiYL._AC_UL320_.jpg\n",
      "https://m.media-amazon.com/images/I/81XzSqUwyyL._AC_UL320_.jpg\n",
      "https://m.media-amazon.com/images/I/61E++5dIJcL._AC_UL320_.jpg\n",
      "https://m.media-amazon.com/images/I/61+iDkYHdHL._AC_UL320_.jpg\n",
      "https://m.media-amazon.com/images/I/71m8OTdQlIL._AC_UL320_.jpg\n",
      "https://m.media-amazon.com/images/I/61oav6m1AqL._AC_UL320_.jpg\n",
      "https://m.media-amazon.com/images/I/61N1hOGfVLL._AC_UL320_.jpg\n",
      "https://m.media-amazon.com/images/I/617SAeg8hPL._AC_UL320_.jpg\n",
      "https://m.media-amazon.com/images/I/51Qau-LLhuL._AC_UL320_.jpg\n",
      "https://m.media-amazon.com/images/I/71hbAodB7OL._AC_UL320_.jpg\n",
      "https://m.media-amazon.com/images/I/51Qau-LLhuL._AC_UL320_.jpg\n",
      "https://m.media-amazon.com/images/I/81CcVHDoZPL._AC_UL320_.jpg\n",
      "https://m.media-amazon.com/images/I/81HPJLtSD7L._AC_UL320_.jpg\n",
      "https://m.media-amazon.com/images/I/813QlLNJUkL._AC_UL320_.jpg\n",
      "https://m.media-amazon.com/images/I/81cL2W+9crL._AC_UL320_.jpg\n",
      "https://m.media-amazon.com/images/I/91hiv1s4GsL._AC_UL320_.jpg\n",
      "https://m.media-amazon.com/images/I/61DzS5aOy4L._AC_UL320_.jpg\n",
      "https://m.media-amazon.com/images/I/712pHoSq6WL._AC_UL320_.jpg\n",
      "https://m.media-amazon.com/images/I/71TPfz4adjL._AC_UL320_.jpg\n",
      "https://m.media-amazon.com/images/I/61366tYShaL._AC_UL320_.jpg\n",
      "https://m.media-amazon.com/images/I/815BT-Fqd1L._AC_UL320_.jpg\n",
      "https://m.media-amazon.com/images/I/81D9+jcYa3L._AC_UL320_.jpg\n",
      "https://m.media-amazon.com/images/I/81IhsdG56BL._AC_UL320_.jpg\n",
      "https://m.media-amazon.com/images/I/81rcMJm4kFL._AC_UL320_.jpg\n",
      "https://m.media-amazon.com/images/I/71Etih2ikzL._AC_UL320_.jpg\n",
      "https://m.media-amazon.com/images/I/81Y-d-P+nSL._AC_UL320_.jpg\n",
      "https://m.media-amazon.com/images/I/712dpobJeYL._AC_UL320_.jpg\n",
      "https://m.media-amazon.com/images/I/61PVjUkg4zL._AC_UL320_.jpg\n",
      "https://m.media-amazon.com/images/I/61bgI-mrUUL._AC_UL320_.jpg\n",
      "https://m.media-amazon.com/images/I/51LNpKJtbML._AC_UL320_.jpg\n",
      "https://m.media-amazon.com/images/I/71B7H-9ok3L._AC_UL320_.jpg\n",
      "https://m.media-amazon.com/images/I/81emkePMduL._AC_UL320_.jpg\n",
      "https://m.media-amazon.com/images/I/71aBsnVJTsL._AC_UL320_.jpg\n",
      "https://m.media-amazon.com/images/I/81xEpTVBdVL._AC_UL320_.jpg\n",
      "https://m.media-amazon.com/images/I/71-+Y8FjxnL._AC_UL320_.jpg\n",
      "https://m.media-amazon.com/images/I/71rOQYzygBL._AC_UL320_.jpg\n",
      "https://m.media-amazon.com/images/I/71eRdJYRagL._AC_UL320_.jpg\n",
      "https://m.media-amazon.com/images/I/81of58fLGzL._AC_UL320_.jpg\n",
      "https://m.media-amazon.com/images/I/81ff9vNJBtL._AC_UL320_.jpg\n",
      "https://m.media-amazon.com/images/I/41Ohx6zaLtL._AC_UL320_.jpg\n",
      "https://m.media-amazon.com/images/I/81ubhsO1EYL._AC_UL320_.jpg\n",
      "https://m.media-amazon.com/images/I/81Z1caUMcjL._AC_UL320_.jpg\n",
      "https://m.media-amazon.com/images/I/71j2MP7jlWL._AC_UL320_.jpg\n",
      "https://m.media-amazon.com/images/I/81EnXeHRNLL._AC_UL320_.jpg\n",
      "https://m.media-amazon.com/images/I/71qUv2Ya2PL._AC_UL320_.jpg\n",
      "https://m.media-amazon.com/images/I/81jhikFjsiL._AC_UL320_.jpg\n",
      "https://m.media-amazon.com/images/I/61p-SIXZ0OL._AC_UL320_.jpg\n",
      "https://m.media-amazon.com/images/I/81wEyJFH1TL._AC_UL320_.jpg\n",
      "https://m.media-amazon.com/images/I/613aUOVUTyL._AC_UL320_.jpg\n",
      "https://m.media-amazon.com/images/I/61lDPRZqv3L._AC_UL320_.jpg\n",
      "https://m.media-amazon.com/images/I/91jIJy6iOIL._AC_UL320_.jpg\n",
      "https://m.media-amazon.com/images/I/81HP-+HqQgL._AC_UL320_.jpg\n"
     ]
    }
   ],
   "source": [
    "\n",
    "urls=[]\n",
    "for image in images:\n",
    "    source=image.get_attribute('src')\n",
    "    urls.append(source)\n",
    "    print(source)"
   ]
  },
  {
   "cell_type": "code",
   "execution_count": 79,
   "metadata": {},
   "outputs": [
    {
     "name": "stdout",
     "output_type": "stream",
     "text": [
      "Downloading 1 of 60 images from page 3\n",
      "Downloading 2 of 60 images from page 3\n",
      "Downloading 3 of 60 images from page 3\n",
      "Downloading 4 of 60 images from page 3\n",
      "Downloading 5 of 60 images from page 3\n",
      "Downloading 6 of 60 images from page 3\n",
      "Downloading 7 of 60 images from page 3\n",
      "Downloading 8 of 60 images from page 3\n",
      "Downloading 9 of 60 images from page 3\n",
      "Downloading 10 of 60 images from page 3\n",
      "Downloading 11 of 60 images from page 3\n",
      "Downloading 12 of 60 images from page 3\n",
      "Downloading 13 of 60 images from page 3\n",
      "Downloading 14 of 60 images from page 3\n",
      "Downloading 15 of 60 images from page 3\n",
      "Downloading 16 of 60 images from page 3\n",
      "Downloading 17 of 60 images from page 3\n",
      "Downloading 18 of 60 images from page 3\n",
      "Downloading 19 of 60 images from page 3\n",
      "Downloading 20 of 60 images from page 3\n",
      "Downloading 21 of 60 images from page 3\n",
      "Downloading 22 of 60 images from page 3\n",
      "Downloading 23 of 60 images from page 3\n",
      "Downloading 24 of 60 images from page 3\n",
      "Downloading 25 of 60 images from page 3\n",
      "Downloading 26 of 60 images from page 3\n",
      "Downloading 27 of 60 images from page 3\n",
      "Downloading 28 of 60 images from page 3\n",
      "Downloading 29 of 60 images from page 3\n",
      "Downloading 30 of 60 images from page 3\n",
      "Downloading 31 of 60 images from page 3\n",
      "Downloading 32 of 60 images from page 3\n",
      "Downloading 33 of 60 images from page 3\n",
      "Downloading 34 of 60 images from page 3\n",
      "Downloading 35 of 60 images from page 3\n",
      "Downloading 36 of 60 images from page 3\n",
      "Downloading 37 of 60 images from page 3\n",
      "Downloading 38 of 60 images from page 3\n",
      "Downloading 39 of 60 images from page 3\n",
      "Downloading 40 of 60 images from page 3\n",
      "Downloading 41 of 60 images from page 3\n",
      "Downloading 42 of 60 images from page 3\n",
      "Downloading 43 of 60 images from page 3\n",
      "Downloading 44 of 60 images from page 3\n",
      "Downloading 45 of 60 images from page 3\n",
      "Downloading 46 of 60 images from page 3\n",
      "Downloading 47 of 60 images from page 3\n",
      "Downloading 48 of 60 images from page 3\n",
      "Downloading 49 of 60 images from page 3\n",
      "Downloading 50 of 60 images from page 3\n",
      "Downloading 51 of 60 images from page 3\n",
      "Downloading 52 of 60 images from page 3\n",
      "Downloading 53 of 60 images from page 3\n",
      "Downloading 54 of 60 images from page 3\n",
      "Downloading 55 of 60 images from page 3\n",
      "Downloading 56 of 60 images from page 3\n",
      "Downloading 57 of 60 images from page 3\n",
      "Downloading 58 of 60 images from page 3\n",
      "Downloading 59 of 60 images from page 3\n",
      "Downloading 60 of 60 images from page 3\n"
     ]
    }
   ],
   "source": [
    "page=3\n",
    "for index, link in enumerate(urls):\n",
    "    print('Downloading {0} of {1} images from page 3'.format(index+1,len(urls)))\n",
    "    response=requests.get(link)\n",
    "    with open('Jeans (men)/img_{0}{1}.jpeg'.format(index,page),'wb') as file:\n",
    "        file.write(response.content)"
   ]
  },
  {
   "cell_type": "code",
   "execution_count": 80,
   "metadata": {},
   "outputs": [],
   "source": [
    "next_page=driver.find_element_by_xpath('//li[@class=\"a-last\"]//a').click()"
   ]
  },
  {
   "cell_type": "code",
   "execution_count": 81,
   "metadata": {},
   "outputs": [],
   "source": [
    "images = driver.find_elements_by_xpath('//img[@class=\"s-image\"]')"
   ]
  },
  {
   "cell_type": "code",
   "execution_count": 82,
   "metadata": {},
   "outputs": [
    {
     "name": "stdout",
     "output_type": "stream",
     "text": [
      "60\n"
     ]
    }
   ],
   "source": [
    "\n",
    "print(len(images))"
   ]
  },
  {
   "cell_type": "code",
   "execution_count": 83,
   "metadata": {},
   "outputs": [
    {
     "data": {
      "text/plain": [
       "<selenium.webdriver.remote.webelement.WebElement (session=\"a9f35e07b9aa00a26a853caf08139200\", element=\"b962d56f-26c1-40c7-abf2-9a5d96a99c2b\")>"
      ]
     },
     "execution_count": 83,
     "metadata": {},
     "output_type": "execute_result"
    }
   ],
   "source": [
    "images[0]"
   ]
  },
  {
   "cell_type": "code",
   "execution_count": 84,
   "metadata": {},
   "outputs": [
    {
     "name": "stdout",
     "output_type": "stream",
     "text": [
      "https://m.media-amazon.com/images/I/81+wlwY-1zL._AC_UL320_.jpg\n",
      "https://m.media-amazon.com/images/I/81axIgBXx3L._AC_UL320_.jpg\n",
      "https://m.media-amazon.com/images/I/715TwHUlj1L._AC_UL320_.jpg\n",
      "https://m.media-amazon.com/images/I/61Don-d8JfL._AC_UL320_.jpg\n",
      "https://m.media-amazon.com/images/I/71qUv2Ya2PL._AC_UL320_.jpg\n",
      "https://m.media-amazon.com/images/I/81jhikFjsiL._AC_UL320_.jpg\n",
      "https://m.media-amazon.com/images/I/61p-SIXZ0OL._AC_UL320_.jpg\n",
      "https://m.media-amazon.com/images/I/81wEyJFH1TL._AC_UL320_.jpg\n",
      "https://m.media-amazon.com/images/I/81pCqaWNjXL._AC_UL320_.jpg\n",
      "https://m.media-amazon.com/images/I/81lcmDyVeeL._AC_UL320_.jpg\n",
      "https://m.media-amazon.com/images/I/81moa81FVkL._AC_UL320_.jpg\n",
      "https://m.media-amazon.com/images/I/81bpqSFc5uL._AC_UL320_.jpg\n",
      "https://m.media-amazon.com/images/I/61yK+TRN6qL._AC_UL320_.jpg\n",
      "https://m.media-amazon.com/images/I/81OO4Cq7m9L._AC_UL320_.jpg\n",
      "https://m.media-amazon.com/images/I/71l4A61nm3L._AC_UL320_.jpg\n",
      "https://m.media-amazon.com/images/I/61HvYtNzzSL._AC_UL320_.jpg\n",
      "https://m.media-amazon.com/images/I/71bDqRCmcoL._AC_UL320_.jpg\n",
      "https://m.media-amazon.com/images/I/81AfOEcSMrL._AC_UL320_.jpg\n",
      "https://m.media-amazon.com/images/I/61hEehGoS7L._AC_UL320_.jpg\n",
      "https://m.media-amazon.com/images/I/71qeFMaQeeL._AC_UL320_.jpg\n",
      "https://m.media-amazon.com/images/I/81d30UG0vfL._AC_UL320_.jpg\n",
      "https://m.media-amazon.com/images/I/81HPJLtSD7L._AC_UL320_.jpg\n",
      "https://m.media-amazon.com/images/I/61TwfPRLhrL._AC_UL320_.jpg\n",
      "https://m.media-amazon.com/images/I/811jajeMo6L._AC_UL320_.jpg\n",
      "https://m.media-amazon.com/images/I/71wSR7Q5vSL._AC_UL320_.jpg\n",
      "https://m.media-amazon.com/images/I/41lacwsOLAL._AC_UL320_.jpg\n",
      "https://m.media-amazon.com/images/I/91xtom0Za8L._AC_UL320_.jpg\n",
      "https://m.media-amazon.com/images/I/81pVWGHWUjL._AC_UL320_.jpg\n",
      "https://m.media-amazon.com/images/I/917myfJIEEL._AC_UL320_.jpg\n",
      "https://m.media-amazon.com/images/I/51SmxdeYVxL._AC_UL320_.jpg\n",
      "https://m.media-amazon.com/images/I/81J5lbQQ4fL._AC_UL320_.jpg\n",
      "https://m.media-amazon.com/images/I/611zCuf1yfL._AC_UL320_.jpg\n",
      "https://m.media-amazon.com/images/I/613BWwlqTkL._AC_UL320_.jpg\n",
      "https://m.media-amazon.com/images/I/61ZwJ99kcLL._AC_UL320_.jpg\n",
      "https://m.media-amazon.com/images/I/91VoSQl-PCL._AC_UL320_.jpg\n",
      "https://m.media-amazon.com/images/I/61imyUYM5SL._AC_UL320_.jpg\n",
      "https://m.media-amazon.com/images/I/91L59q39mtL._AC_UL320_.jpg\n",
      "https://m.media-amazon.com/images/I/8173Oe70e8L._AC_UL320_.jpg\n",
      "https://m.media-amazon.com/images/I/71zve7Po7-L._AC_UL320_.jpg\n",
      "https://m.media-amazon.com/images/I/71XHxFJ-EgL._AC_UL320_.jpg\n",
      "https://m.media-amazon.com/images/I/916yPeFkUuL._AC_UL320_.jpg\n",
      "https://m.media-amazon.com/images/I/61n+-BvwNDL._AC_UL320_.jpg\n",
      "https://m.media-amazon.com/images/I/51FTacqPuLL._AC_UL320_.jpg\n",
      "https://m.media-amazon.com/images/I/A1PWXZKV58L._AC_UL320_.jpg\n",
      "https://m.media-amazon.com/images/I/71dQmiitTSL._AC_UL320_.jpg\n",
      "https://m.media-amazon.com/images/I/911W+Lsk1aL._AC_UL320_.jpg\n",
      "https://m.media-amazon.com/images/I/61HmBI7j8gL._AC_UL320_.jpg\n",
      "https://m.media-amazon.com/images/I/618mHoIdIZL._AC_UL320_.jpg\n",
      "https://m.media-amazon.com/images/I/71uzIrue97L._AC_UL320_.jpg\n",
      "https://m.media-amazon.com/images/I/71HEmGIsJkL._AC_UL320_.jpg\n",
      "https://m.media-amazon.com/images/I/81ODHHpRkfL._AC_UL320_.jpg\n",
      "https://m.media-amazon.com/images/I/81uo1PTDoeL._AC_UL320_.jpg\n",
      "https://m.media-amazon.com/images/I/81xJSwBvNuL._AC_UL320_.jpg\n",
      "https://m.media-amazon.com/images/I/81keMre05BL._AC_UL320_.jpg\n",
      "https://m.media-amazon.com/images/I/81DhPJ6nC4L._AC_UL320_.jpg\n",
      "https://m.media-amazon.com/images/I/61lEfWmJ-nL._AC_UL320_.jpg\n",
      "https://m.media-amazon.com/images/I/71Gsi6GPPuL._AC_UL320_.jpg\n",
      "https://m.media-amazon.com/images/I/81Xt9lRA4qL._AC_UL320_.jpg\n",
      "https://m.media-amazon.com/images/I/81HP-+HqQgL._AC_UL320_.jpg\n",
      "https://m.media-amazon.com/images/I/81u-RVaNYNL._AC_UL320_.jpg\n"
     ]
    }
   ],
   "source": [
    "urls=[]\n",
    "for image in images:\n",
    "    source=image.get_attribute('src')\n",
    "    urls.append(source)\n",
    "    print(source)"
   ]
  },
  {
   "cell_type": "code",
   "execution_count": 85,
   "metadata": {},
   "outputs": [
    {
     "name": "stdout",
     "output_type": "stream",
     "text": [
      "Downloading 1 of 60 images from page 4\n",
      "Downloading 2 of 60 images from page 4\n",
      "Downloading 3 of 60 images from page 4\n",
      "Downloading 4 of 60 images from page 4\n",
      "Downloading 5 of 60 images from page 4\n",
      "Downloading 6 of 60 images from page 4\n",
      "Downloading 7 of 60 images from page 4\n",
      "Downloading 8 of 60 images from page 4\n",
      "Downloading 9 of 60 images from page 4\n",
      "Downloading 10 of 60 images from page 4\n",
      "Downloading 11 of 60 images from page 4\n",
      "Downloading 12 of 60 images from page 4\n",
      "Downloading 13 of 60 images from page 4\n",
      "Downloading 14 of 60 images from page 4\n",
      "Downloading 15 of 60 images from page 4\n",
      "Downloading 16 of 60 images from page 4\n",
      "Downloading 17 of 60 images from page 4\n",
      "Downloading 18 of 60 images from page 4\n",
      "Downloading 19 of 60 images from page 4\n",
      "Downloading 20 of 60 images from page 4\n",
      "Downloading 21 of 60 images from page 4\n",
      "Downloading 22 of 60 images from page 4\n",
      "Downloading 23 of 60 images from page 4\n",
      "Downloading 24 of 60 images from page 4\n",
      "Downloading 25 of 60 images from page 4\n",
      "Downloading 26 of 60 images from page 4\n",
      "Downloading 27 of 60 images from page 4\n",
      "Downloading 28 of 60 images from page 4\n",
      "Downloading 29 of 60 images from page 4\n",
      "Downloading 30 of 60 images from page 4\n",
      "Downloading 31 of 60 images from page 4\n",
      "Downloading 32 of 60 images from page 4\n",
      "Downloading 33 of 60 images from page 4\n",
      "Downloading 34 of 60 images from page 4\n",
      "Downloading 35 of 60 images from page 4\n",
      "Downloading 36 of 60 images from page 4\n",
      "Downloading 37 of 60 images from page 4\n",
      "Downloading 38 of 60 images from page 4\n",
      "Downloading 39 of 60 images from page 4\n",
      "Downloading 40 of 60 images from page 4\n",
      "Downloading 41 of 60 images from page 4\n",
      "Downloading 42 of 60 images from page 4\n",
      "Downloading 43 of 60 images from page 4\n",
      "Downloading 44 of 60 images from page 4\n",
      "Downloading 45 of 60 images from page 4\n",
      "Downloading 46 of 60 images from page 4\n",
      "Downloading 47 of 60 images from page 4\n",
      "Downloading 48 of 60 images from page 4\n",
      "Downloading 49 of 60 images from page 4\n",
      "Downloading 50 of 60 images from page 4\n",
      "Downloading 51 of 60 images from page 4\n",
      "Downloading 52 of 60 images from page 4\n",
      "Downloading 53 of 60 images from page 4\n",
      "Downloading 54 of 60 images from page 4\n",
      "Downloading 55 of 60 images from page 4\n",
      "Downloading 56 of 60 images from page 4\n",
      "Downloading 57 of 60 images from page 4\n",
      "Downloading 58 of 60 images from page 4\n",
      "Downloading 59 of 60 images from page 4\n",
      "Downloading 60 of 60 images from page 4\n"
     ]
    }
   ],
   "source": [
    "page=4\n",
    "for index, link in enumerate(urls):\n",
    "    print('Downloading {0} of {1} images from page 4'.format(index+1,len(urls)))\n",
    "    response=requests.get(link)\n",
    "    with open('Jeans (men)/img_{0}{1}.jpeg'.format(index,page),'wb') as file:\n",
    "        file.write(response.content)"
   ]
  },
  {
   "cell_type": "code",
   "execution_count": null,
   "metadata": {},
   "outputs": [],
   "source": []
  }
 ],
 "metadata": {
  "kernelspec": {
   "display_name": "Python 3",
   "language": "python",
   "name": "python3"
  },
  "language_info": {
   "codemirror_mode": {
    "name": "ipython",
    "version": 3
   },
   "file_extension": ".py",
   "mimetype": "text/x-python",
   "name": "python",
   "nbconvert_exporter": "python",
   "pygments_lexer": "ipython3",
   "version": "3.8.3"
  }
 },
 "nbformat": 4,
 "nbformat_minor": 4
}
